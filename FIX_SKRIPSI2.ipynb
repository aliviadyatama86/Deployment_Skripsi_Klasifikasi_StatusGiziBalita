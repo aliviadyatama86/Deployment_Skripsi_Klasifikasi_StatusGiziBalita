{
  "cells": [
    {
      "cell_type": "markdown",
      "metadata": {
        "id": "SJEZxQ2X51xc"
      },
      "source": [
        "# **1. IMPORT LIBRARY**"
      ]
    },
    {
      "cell_type": "code",
      "execution_count": 80,
      "metadata": {
        "id": "xeqZd1kMn1b0"
      },
      "outputs": [],
      "source": [
        "import pandas as pd\n",
        "import numpy as np\n",
        "import matplotlib.pyplot as plt\n",
        "import seaborn as sns\n",
        "import warnings\n",
        "warnings.filterwarnings('ignore')\n",
        "\n",
        "# Preprocessing & Modeling\n",
        "from sklearn.model_selection import train_test_split\n",
        "from sklearn.preprocessing import StandardScaler, OneHotEncoder\n",
        "from sklearn.compose import ColumnTransformer\n",
        "from sklearn.pipeline import Pipeline\n",
        "from sklearn.ensemble import RandomForestClassifier\n",
        "from xgboost import XGBClassifier\n",
        "from sklearn.model_selection import GridSearchCV\n",
        "from imblearn.ensemble import BalancedRandomForestClassifier\n",
        "\n",
        "# Evaluasi\n",
        "from sklearn.metrics import accuracy_score, classification_report, confusion_matrix, ConfusionMatrixDisplay\n",
        "# Imbalance data handling\n",
        "from imblearn.over_sampling import SMOTE, ADASYN\n",
        "from collections import Counter"
      ]
    },
    {
      "cell_type": "markdown",
      "metadata": {
        "id": "x-MOr4Fourlf"
      },
      "source": [
        "# **2. LOAD DATASETS**"
      ]
    },
    {
      "cell_type": "code",
      "execution_count": 81,
      "metadata": {
        "colab": {
          "base_uri": "https://localhost:8080/",
          "height": 808
        },
        "id": "1F7roAhQuuBr",
        "outputId": "b93af9ef-7ca4-4c46-8163-38fe39101fcd"
      },
      "outputs": [
        {
          "output_type": "display_data",
          "data": {
            "text/plain": [
              "        No                Nama Anak Tanggal Lahir  Umur Jenis Kelamin  \\\n",
              "0        1    KANISA GENDHIS AMELIA    10-01-2019    20             P   \n",
              "1        2   GHANIA FRADELLA LEENA     30-06-2019    14             P   \n",
              "2        3   RAYYAN ALFARIZI PUTRA     19-07-2018    26             L   \n",
              "3        4           FAUZAN ADHIMA     24-11-2017    33             L   \n",
              "4        5      REXZA ACELIN ATHA A    19-06-2017    39             L   \n",
              "...    ...                      ...           ...   ...           ...   \n",
              "1612  1613   FAYOLLA CHAYRA NADHOFA    23-05-2020    47             P   \n",
              "1613  1614  AIRA FARAH NUR FITRIYAH    13-04-2020    49             P   \n",
              "1614  1615               ASKA AULIA    20-02-2020    50             P   \n",
              "1615  1616  ZAFRAN ALQHIFARI WIDADA    12-10-2019    55             L   \n",
              "1616  1617            AULIA MEILA N    03-05-2019    60             P   \n",
              "\n",
              "     Berat Badan Lahir (Kg)              Nama Ibu   Desa    Dusun   Alamat  \\\n",
              "0                       2.8   ATIKA WINDI HASTINI  MLESE  NGARAN    NGARAN   \n",
              "1                         3   RENANI PUJI ASTUTI   MLESE  NGARAN    NGARAN   \n",
              "2                       2.7         ANA JULIANTI   MLESE  NGARAN    NGARAN   \n",
              "3                       2.7         ARINA FAUZANI  MLESE  NGARAN    NGARAN   \n",
              "4                       3.1      NOVIANA SURYANI   MLESE  NGARAN   NGARAN    \n",
              "...                     ...                   ...    ...      ...      ...   \n",
              "1612                    3,2        SARI DAMAYANTI  MLESE   SRAGON   SRAGON   \n",
              "1613                   2,89         SRI HANDAYANI  MLESE   SRAGON   SRAGON   \n",
              "1614                    2.4  ISTIQOMAH SETIYAWATI  MLESE   SRAGON   SRAGON   \n",
              "1615                    2.3       HESTI HANDAYANI  MLESE   SRAGON   SRAGON   \n",
              "1616                   2,82              KUSWANTI  MLESE   SRAGON   SRAGON   \n",
              "\n",
              "       RT   RW Tanggal Pengukuran   BB    TB   Z-Score BB/U  Z-Score TB/U  \\\n",
              "0     1.0  1.0         23-09-2020    10    80          0.50         -0.20   \n",
              "1     1.0  1.0         23-09-2020   7.8    78         -0.80          0.50   \n",
              "2     1.0  1.0         23-09-2020   9.5    80         -1.20         -1.00   \n",
              "3     1.0  1.0         23-09-2020  13.7    86          1.50          0.80   \n",
              "4     1.0  2.0         23-09-2020    15    93          1.80          1.20   \n",
              "...   ...  ...                ...   ...   ...           ...           ...   \n",
              "1612  1.0  7.0         16-05-2024  11,4    94         -0.71          0.18   \n",
              "1613  2.0  7.0         16-05-2024  11,7  89,5         -0.60         -1.35   \n",
              "1614  2.0  7.0         16-05-2024  11,7    90         -2.77         -3.00   \n",
              "1615  3.0  7.0         16-05-2024  18,6   106          1.85          1.21   \n",
              "1616  3.0  7.0         16-05-2024  15,3   109          1.24          1.31   \n",
              "\n",
              "      Z-Score BB/TB    Status BB/U    Status TB/U     Status BB/TB  Cara Ukur   \n",
              "0              0.80         Normal         Normal        Gizi Baik           1  \n",
              "1             -0.60         Normal         Normal        Gizi Baik           1  \n",
              "2             -0.50         Normal         Normal        Gizi Baik           1  \n",
              "3              1.80         Normal         Normal  Resiko Gizi Lbh           1  \n",
              "4              2.20         Normal         Normal         Obesitas           1  \n",
              "...             ...            ...            ...              ...         ...  \n",
              "1612          -0.18         Kurang         Normal      Gizi Kurang           2  \n",
              "1613          -0.53         Kurang  Sangat Pendek        Gizi Baik           2  \n",
              "1614          -2.20  Sangat kurang  Sangat Pendek      Gizi Kurang           2  \n",
              "1615           1.32         Normal         Normal        Gizi Baik           2  \n",
              "1616           1.00         Normal         Normal        Gizi Baik           2  \n",
              "\n",
              "[1617 rows x 22 columns]"
            ],
            "text/html": [
              "\n",
              "  <div id=\"df-e96eb45f-550d-4296-b9ab-f61d1e607515\" class=\"colab-df-container\">\n",
              "    <div>\n",
              "<style scoped>\n",
              "    .dataframe tbody tr th:only-of-type {\n",
              "        vertical-align: middle;\n",
              "    }\n",
              "\n",
              "    .dataframe tbody tr th {\n",
              "        vertical-align: top;\n",
              "    }\n",
              "\n",
              "    .dataframe thead th {\n",
              "        text-align: right;\n",
              "    }\n",
              "</style>\n",
              "<table border=\"1\" class=\"dataframe\">\n",
              "  <thead>\n",
              "    <tr style=\"text-align: right;\">\n",
              "      <th></th>\n",
              "      <th>No</th>\n",
              "      <th>Nama Anak</th>\n",
              "      <th>Tanggal Lahir</th>\n",
              "      <th>Umur</th>\n",
              "      <th>Jenis Kelamin</th>\n",
              "      <th>Berat Badan Lahir (Kg)</th>\n",
              "      <th>Nama Ibu</th>\n",
              "      <th>Desa</th>\n",
              "      <th>Dusun</th>\n",
              "      <th>Alamat</th>\n",
              "      <th>RT</th>\n",
              "      <th>RW</th>\n",
              "      <th>Tanggal Pengukuran</th>\n",
              "      <th>BB</th>\n",
              "      <th>TB</th>\n",
              "      <th>Z-Score BB/U</th>\n",
              "      <th>Z-Score TB/U</th>\n",
              "      <th>Z-Score BB/TB</th>\n",
              "      <th>Status BB/U</th>\n",
              "      <th>Status TB/U</th>\n",
              "      <th>Status BB/TB</th>\n",
              "      <th>Cara Ukur</th>\n",
              "    </tr>\n",
              "  </thead>\n",
              "  <tbody>\n",
              "    <tr>\n",
              "      <th>0</th>\n",
              "      <td>1</td>\n",
              "      <td>KANISA GENDHIS AMELIA</td>\n",
              "      <td>10-01-2019</td>\n",
              "      <td>20</td>\n",
              "      <td>P</td>\n",
              "      <td>2.8</td>\n",
              "      <td>ATIKA WINDI HASTINI</td>\n",
              "      <td>MLESE</td>\n",
              "      <td>NGARAN</td>\n",
              "      <td>NGARAN</td>\n",
              "      <td>1.0</td>\n",
              "      <td>1.0</td>\n",
              "      <td>23-09-2020</td>\n",
              "      <td>10</td>\n",
              "      <td>80</td>\n",
              "      <td>0.50</td>\n",
              "      <td>-0.20</td>\n",
              "      <td>0.80</td>\n",
              "      <td>Normal</td>\n",
              "      <td>Normal</td>\n",
              "      <td>Gizi Baik</td>\n",
              "      <td>1</td>\n",
              "    </tr>\n",
              "    <tr>\n",
              "      <th>1</th>\n",
              "      <td>2</td>\n",
              "      <td>GHANIA FRADELLA LEENA</td>\n",
              "      <td>30-06-2019</td>\n",
              "      <td>14</td>\n",
              "      <td>P</td>\n",
              "      <td>3</td>\n",
              "      <td>RENANI PUJI ASTUTI</td>\n",
              "      <td>MLESE</td>\n",
              "      <td>NGARAN</td>\n",
              "      <td>NGARAN</td>\n",
              "      <td>1.0</td>\n",
              "      <td>1.0</td>\n",
              "      <td>23-09-2020</td>\n",
              "      <td>7.8</td>\n",
              "      <td>78</td>\n",
              "      <td>-0.80</td>\n",
              "      <td>0.50</td>\n",
              "      <td>-0.60</td>\n",
              "      <td>Normal</td>\n",
              "      <td>Normal</td>\n",
              "      <td>Gizi Baik</td>\n",
              "      <td>1</td>\n",
              "    </tr>\n",
              "    <tr>\n",
              "      <th>2</th>\n",
              "      <td>3</td>\n",
              "      <td>RAYYAN ALFARIZI PUTRA</td>\n",
              "      <td>19-07-2018</td>\n",
              "      <td>26</td>\n",
              "      <td>L</td>\n",
              "      <td>2.7</td>\n",
              "      <td>ANA JULIANTI</td>\n",
              "      <td>MLESE</td>\n",
              "      <td>NGARAN</td>\n",
              "      <td>NGARAN</td>\n",
              "      <td>1.0</td>\n",
              "      <td>1.0</td>\n",
              "      <td>23-09-2020</td>\n",
              "      <td>9.5</td>\n",
              "      <td>80</td>\n",
              "      <td>-1.20</td>\n",
              "      <td>-1.00</td>\n",
              "      <td>-0.50</td>\n",
              "      <td>Normal</td>\n",
              "      <td>Normal</td>\n",
              "      <td>Gizi Baik</td>\n",
              "      <td>1</td>\n",
              "    </tr>\n",
              "    <tr>\n",
              "      <th>3</th>\n",
              "      <td>4</td>\n",
              "      <td>FAUZAN ADHIMA</td>\n",
              "      <td>24-11-2017</td>\n",
              "      <td>33</td>\n",
              "      <td>L</td>\n",
              "      <td>2.7</td>\n",
              "      <td>ARINA FAUZANI</td>\n",
              "      <td>MLESE</td>\n",
              "      <td>NGARAN</td>\n",
              "      <td>NGARAN</td>\n",
              "      <td>1.0</td>\n",
              "      <td>1.0</td>\n",
              "      <td>23-09-2020</td>\n",
              "      <td>13.7</td>\n",
              "      <td>86</td>\n",
              "      <td>1.50</td>\n",
              "      <td>0.80</td>\n",
              "      <td>1.80</td>\n",
              "      <td>Normal</td>\n",
              "      <td>Normal</td>\n",
              "      <td>Resiko Gizi Lbh</td>\n",
              "      <td>1</td>\n",
              "    </tr>\n",
              "    <tr>\n",
              "      <th>4</th>\n",
              "      <td>5</td>\n",
              "      <td>REXZA ACELIN ATHA A</td>\n",
              "      <td>19-06-2017</td>\n",
              "      <td>39</td>\n",
              "      <td>L</td>\n",
              "      <td>3.1</td>\n",
              "      <td>NOVIANA SURYANI</td>\n",
              "      <td>MLESE</td>\n",
              "      <td>NGARAN</td>\n",
              "      <td>NGARAN</td>\n",
              "      <td>1.0</td>\n",
              "      <td>2.0</td>\n",
              "      <td>23-09-2020</td>\n",
              "      <td>15</td>\n",
              "      <td>93</td>\n",
              "      <td>1.80</td>\n",
              "      <td>1.20</td>\n",
              "      <td>2.20</td>\n",
              "      <td>Normal</td>\n",
              "      <td>Normal</td>\n",
              "      <td>Obesitas</td>\n",
              "      <td>1</td>\n",
              "    </tr>\n",
              "    <tr>\n",
              "      <th>...</th>\n",
              "      <td>...</td>\n",
              "      <td>...</td>\n",
              "      <td>...</td>\n",
              "      <td>...</td>\n",
              "      <td>...</td>\n",
              "      <td>...</td>\n",
              "      <td>...</td>\n",
              "      <td>...</td>\n",
              "      <td>...</td>\n",
              "      <td>...</td>\n",
              "      <td>...</td>\n",
              "      <td>...</td>\n",
              "      <td>...</td>\n",
              "      <td>...</td>\n",
              "      <td>...</td>\n",
              "      <td>...</td>\n",
              "      <td>...</td>\n",
              "      <td>...</td>\n",
              "      <td>...</td>\n",
              "      <td>...</td>\n",
              "      <td>...</td>\n",
              "      <td>...</td>\n",
              "    </tr>\n",
              "    <tr>\n",
              "      <th>1612</th>\n",
              "      <td>1613</td>\n",
              "      <td>FAYOLLA CHAYRA NADHOFA</td>\n",
              "      <td>23-05-2020</td>\n",
              "      <td>47</td>\n",
              "      <td>P</td>\n",
              "      <td>3,2</td>\n",
              "      <td>SARI DAMAYANTI</td>\n",
              "      <td>MLESE</td>\n",
              "      <td>SRAGON</td>\n",
              "      <td>SRAGON</td>\n",
              "      <td>1.0</td>\n",
              "      <td>7.0</td>\n",
              "      <td>16-05-2024</td>\n",
              "      <td>11,4</td>\n",
              "      <td>94</td>\n",
              "      <td>-0.71</td>\n",
              "      <td>0.18</td>\n",
              "      <td>-0.18</td>\n",
              "      <td>Kurang</td>\n",
              "      <td>Normal</td>\n",
              "      <td>Gizi Kurang</td>\n",
              "      <td>2</td>\n",
              "    </tr>\n",
              "    <tr>\n",
              "      <th>1613</th>\n",
              "      <td>1614</td>\n",
              "      <td>AIRA FARAH NUR FITRIYAH</td>\n",
              "      <td>13-04-2020</td>\n",
              "      <td>49</td>\n",
              "      <td>P</td>\n",
              "      <td>2,89</td>\n",
              "      <td>SRI HANDAYANI</td>\n",
              "      <td>MLESE</td>\n",
              "      <td>SRAGON</td>\n",
              "      <td>SRAGON</td>\n",
              "      <td>2.0</td>\n",
              "      <td>7.0</td>\n",
              "      <td>16-05-2024</td>\n",
              "      <td>11,7</td>\n",
              "      <td>89,5</td>\n",
              "      <td>-0.60</td>\n",
              "      <td>-1.35</td>\n",
              "      <td>-0.53</td>\n",
              "      <td>Kurang</td>\n",
              "      <td>Sangat Pendek</td>\n",
              "      <td>Gizi Baik</td>\n",
              "      <td>2</td>\n",
              "    </tr>\n",
              "    <tr>\n",
              "      <th>1614</th>\n",
              "      <td>1615</td>\n",
              "      <td>ASKA AULIA</td>\n",
              "      <td>20-02-2020</td>\n",
              "      <td>50</td>\n",
              "      <td>P</td>\n",
              "      <td>2.4</td>\n",
              "      <td>ISTIQOMAH SETIYAWATI</td>\n",
              "      <td>MLESE</td>\n",
              "      <td>SRAGON</td>\n",
              "      <td>SRAGON</td>\n",
              "      <td>2.0</td>\n",
              "      <td>7.0</td>\n",
              "      <td>16-05-2024</td>\n",
              "      <td>11,7</td>\n",
              "      <td>90</td>\n",
              "      <td>-2.77</td>\n",
              "      <td>-3.00</td>\n",
              "      <td>-2.20</td>\n",
              "      <td>Sangat kurang</td>\n",
              "      <td>Sangat Pendek</td>\n",
              "      <td>Gizi Kurang</td>\n",
              "      <td>2</td>\n",
              "    </tr>\n",
              "    <tr>\n",
              "      <th>1615</th>\n",
              "      <td>1616</td>\n",
              "      <td>ZAFRAN ALQHIFARI WIDADA</td>\n",
              "      <td>12-10-2019</td>\n",
              "      <td>55</td>\n",
              "      <td>L</td>\n",
              "      <td>2.3</td>\n",
              "      <td>HESTI HANDAYANI</td>\n",
              "      <td>MLESE</td>\n",
              "      <td>SRAGON</td>\n",
              "      <td>SRAGON</td>\n",
              "      <td>3.0</td>\n",
              "      <td>7.0</td>\n",
              "      <td>16-05-2024</td>\n",
              "      <td>18,6</td>\n",
              "      <td>106</td>\n",
              "      <td>1.85</td>\n",
              "      <td>1.21</td>\n",
              "      <td>1.32</td>\n",
              "      <td>Normal</td>\n",
              "      <td>Normal</td>\n",
              "      <td>Gizi Baik</td>\n",
              "      <td>2</td>\n",
              "    </tr>\n",
              "    <tr>\n",
              "      <th>1616</th>\n",
              "      <td>1617</td>\n",
              "      <td>AULIA MEILA N</td>\n",
              "      <td>03-05-2019</td>\n",
              "      <td>60</td>\n",
              "      <td>P</td>\n",
              "      <td>2,82</td>\n",
              "      <td>KUSWANTI</td>\n",
              "      <td>MLESE</td>\n",
              "      <td>SRAGON</td>\n",
              "      <td>SRAGON</td>\n",
              "      <td>3.0</td>\n",
              "      <td>7.0</td>\n",
              "      <td>16-05-2024</td>\n",
              "      <td>15,3</td>\n",
              "      <td>109</td>\n",
              "      <td>1.24</td>\n",
              "      <td>1.31</td>\n",
              "      <td>1.00</td>\n",
              "      <td>Normal</td>\n",
              "      <td>Normal</td>\n",
              "      <td>Gizi Baik</td>\n",
              "      <td>2</td>\n",
              "    </tr>\n",
              "  </tbody>\n",
              "</table>\n",
              "<p>1617 rows × 22 columns</p>\n",
              "</div>\n",
              "    <div class=\"colab-df-buttons\">\n",
              "\n",
              "  <div class=\"colab-df-container\">\n",
              "    <button class=\"colab-df-convert\" onclick=\"convertToInteractive('df-e96eb45f-550d-4296-b9ab-f61d1e607515')\"\n",
              "            title=\"Convert this dataframe to an interactive table.\"\n",
              "            style=\"display:none;\">\n",
              "\n",
              "  <svg xmlns=\"http://www.w3.org/2000/svg\" height=\"24px\" viewBox=\"0 -960 960 960\">\n",
              "    <path d=\"M120-120v-720h720v720H120Zm60-500h600v-160H180v160Zm220 220h160v-160H400v160Zm0 220h160v-160H400v160ZM180-400h160v-160H180v160Zm440 0h160v-160H620v160ZM180-180h160v-160H180v160Zm440 0h160v-160H620v160Z\"/>\n",
              "  </svg>\n",
              "    </button>\n",
              "\n",
              "  <style>\n",
              "    .colab-df-container {\n",
              "      display:flex;\n",
              "      gap: 12px;\n",
              "    }\n",
              "\n",
              "    .colab-df-convert {\n",
              "      background-color: #E8F0FE;\n",
              "      border: none;\n",
              "      border-radius: 50%;\n",
              "      cursor: pointer;\n",
              "      display: none;\n",
              "      fill: #1967D2;\n",
              "      height: 32px;\n",
              "      padding: 0 0 0 0;\n",
              "      width: 32px;\n",
              "    }\n",
              "\n",
              "    .colab-df-convert:hover {\n",
              "      background-color: #E2EBFA;\n",
              "      box-shadow: 0px 1px 2px rgba(60, 64, 67, 0.3), 0px 1px 3px 1px rgba(60, 64, 67, 0.15);\n",
              "      fill: #174EA6;\n",
              "    }\n",
              "\n",
              "    .colab-df-buttons div {\n",
              "      margin-bottom: 4px;\n",
              "    }\n",
              "\n",
              "    [theme=dark] .colab-df-convert {\n",
              "      background-color: #3B4455;\n",
              "      fill: #D2E3FC;\n",
              "    }\n",
              "\n",
              "    [theme=dark] .colab-df-convert:hover {\n",
              "      background-color: #434B5C;\n",
              "      box-shadow: 0px 1px 3px 1px rgba(0, 0, 0, 0.15);\n",
              "      filter: drop-shadow(0px 1px 2px rgba(0, 0, 0, 0.3));\n",
              "      fill: #FFFFFF;\n",
              "    }\n",
              "  </style>\n",
              "\n",
              "    <script>\n",
              "      const buttonEl =\n",
              "        document.querySelector('#df-e96eb45f-550d-4296-b9ab-f61d1e607515 button.colab-df-convert');\n",
              "      buttonEl.style.display =\n",
              "        google.colab.kernel.accessAllowed ? 'block' : 'none';\n",
              "\n",
              "      async function convertToInteractive(key) {\n",
              "        const element = document.querySelector('#df-e96eb45f-550d-4296-b9ab-f61d1e607515');\n",
              "        const dataTable =\n",
              "          await google.colab.kernel.invokeFunction('convertToInteractive',\n",
              "                                                    [key], {});\n",
              "        if (!dataTable) return;\n",
              "\n",
              "        const docLinkHtml = 'Like what you see? Visit the ' +\n",
              "          '<a target=\"_blank\" href=https://colab.research.google.com/notebooks/data_table.ipynb>data table notebook</a>'\n",
              "          + ' to learn more about interactive tables.';\n",
              "        element.innerHTML = '';\n",
              "        dataTable['output_type'] = 'display_data';\n",
              "        await google.colab.output.renderOutput(dataTable, element);\n",
              "        const docLink = document.createElement('div');\n",
              "        docLink.innerHTML = docLinkHtml;\n",
              "        element.appendChild(docLink);\n",
              "      }\n",
              "    </script>\n",
              "  </div>\n",
              "\n",
              "\n",
              "    <div id=\"df-be593998-703d-4d76-912e-618f44545639\">\n",
              "      <button class=\"colab-df-quickchart\" onclick=\"quickchart('df-be593998-703d-4d76-912e-618f44545639')\"\n",
              "                title=\"Suggest charts\"\n",
              "                style=\"display:none;\">\n",
              "\n",
              "<svg xmlns=\"http://www.w3.org/2000/svg\" height=\"24px\"viewBox=\"0 0 24 24\"\n",
              "     width=\"24px\">\n",
              "    <g>\n",
              "        <path d=\"M19 3H5c-1.1 0-2 .9-2 2v14c0 1.1.9 2 2 2h14c1.1 0 2-.9 2-2V5c0-1.1-.9-2-2-2zM9 17H7v-7h2v7zm4 0h-2V7h2v10zm4 0h-2v-4h2v4z\"/>\n",
              "    </g>\n",
              "</svg>\n",
              "      </button>\n",
              "\n",
              "<style>\n",
              "  .colab-df-quickchart {\n",
              "      --bg-color: #E8F0FE;\n",
              "      --fill-color: #1967D2;\n",
              "      --hover-bg-color: #E2EBFA;\n",
              "      --hover-fill-color: #174EA6;\n",
              "      --disabled-fill-color: #AAA;\n",
              "      --disabled-bg-color: #DDD;\n",
              "  }\n",
              "\n",
              "  [theme=dark] .colab-df-quickchart {\n",
              "      --bg-color: #3B4455;\n",
              "      --fill-color: #D2E3FC;\n",
              "      --hover-bg-color: #434B5C;\n",
              "      --hover-fill-color: #FFFFFF;\n",
              "      --disabled-bg-color: #3B4455;\n",
              "      --disabled-fill-color: #666;\n",
              "  }\n",
              "\n",
              "  .colab-df-quickchart {\n",
              "    background-color: var(--bg-color);\n",
              "    border: none;\n",
              "    border-radius: 50%;\n",
              "    cursor: pointer;\n",
              "    display: none;\n",
              "    fill: var(--fill-color);\n",
              "    height: 32px;\n",
              "    padding: 0;\n",
              "    width: 32px;\n",
              "  }\n",
              "\n",
              "  .colab-df-quickchart:hover {\n",
              "    background-color: var(--hover-bg-color);\n",
              "    box-shadow: 0 1px 2px rgba(60, 64, 67, 0.3), 0 1px 3px 1px rgba(60, 64, 67, 0.15);\n",
              "    fill: var(--button-hover-fill-color);\n",
              "  }\n",
              "\n",
              "  .colab-df-quickchart-complete:disabled,\n",
              "  .colab-df-quickchart-complete:disabled:hover {\n",
              "    background-color: var(--disabled-bg-color);\n",
              "    fill: var(--disabled-fill-color);\n",
              "    box-shadow: none;\n",
              "  }\n",
              "\n",
              "  .colab-df-spinner {\n",
              "    border: 2px solid var(--fill-color);\n",
              "    border-color: transparent;\n",
              "    border-bottom-color: var(--fill-color);\n",
              "    animation:\n",
              "      spin 1s steps(1) infinite;\n",
              "  }\n",
              "\n",
              "  @keyframes spin {\n",
              "    0% {\n",
              "      border-color: transparent;\n",
              "      border-bottom-color: var(--fill-color);\n",
              "      border-left-color: var(--fill-color);\n",
              "    }\n",
              "    20% {\n",
              "      border-color: transparent;\n",
              "      border-left-color: var(--fill-color);\n",
              "      border-top-color: var(--fill-color);\n",
              "    }\n",
              "    30% {\n",
              "      border-color: transparent;\n",
              "      border-left-color: var(--fill-color);\n",
              "      border-top-color: var(--fill-color);\n",
              "      border-right-color: var(--fill-color);\n",
              "    }\n",
              "    40% {\n",
              "      border-color: transparent;\n",
              "      border-right-color: var(--fill-color);\n",
              "      border-top-color: var(--fill-color);\n",
              "    }\n",
              "    60% {\n",
              "      border-color: transparent;\n",
              "      border-right-color: var(--fill-color);\n",
              "    }\n",
              "    80% {\n",
              "      border-color: transparent;\n",
              "      border-right-color: var(--fill-color);\n",
              "      border-bottom-color: var(--fill-color);\n",
              "    }\n",
              "    90% {\n",
              "      border-color: transparent;\n",
              "      border-bottom-color: var(--fill-color);\n",
              "    }\n",
              "  }\n",
              "</style>\n",
              "\n",
              "      <script>\n",
              "        async function quickchart(key) {\n",
              "          const quickchartButtonEl =\n",
              "            document.querySelector('#' + key + ' button');\n",
              "          quickchartButtonEl.disabled = true;  // To prevent multiple clicks.\n",
              "          quickchartButtonEl.classList.add('colab-df-spinner');\n",
              "          try {\n",
              "            const charts = await google.colab.kernel.invokeFunction(\n",
              "                'suggestCharts', [key], {});\n",
              "          } catch (error) {\n",
              "            console.error('Error during call to suggestCharts:', error);\n",
              "          }\n",
              "          quickchartButtonEl.classList.remove('colab-df-spinner');\n",
              "          quickchartButtonEl.classList.add('colab-df-quickchart-complete');\n",
              "        }\n",
              "        (() => {\n",
              "          let quickchartButtonEl =\n",
              "            document.querySelector('#df-be593998-703d-4d76-912e-618f44545639 button');\n",
              "          quickchartButtonEl.style.display =\n",
              "            google.colab.kernel.accessAllowed ? 'block' : 'none';\n",
              "        })();\n",
              "      </script>\n",
              "    </div>\n",
              "\n",
              "  <div id=\"id_3a1f5fb7-804c-42a8-9468-d0f5d26a56dd\">\n",
              "    <style>\n",
              "      .colab-df-generate {\n",
              "        background-color: #E8F0FE;\n",
              "        border: none;\n",
              "        border-radius: 50%;\n",
              "        cursor: pointer;\n",
              "        display: none;\n",
              "        fill: #1967D2;\n",
              "        height: 32px;\n",
              "        padding: 0 0 0 0;\n",
              "        width: 32px;\n",
              "      }\n",
              "\n",
              "      .colab-df-generate:hover {\n",
              "        background-color: #E2EBFA;\n",
              "        box-shadow: 0px 1px 2px rgba(60, 64, 67, 0.3), 0px 1px 3px 1px rgba(60, 64, 67, 0.15);\n",
              "        fill: #174EA6;\n",
              "      }\n",
              "\n",
              "      [theme=dark] .colab-df-generate {\n",
              "        background-color: #3B4455;\n",
              "        fill: #D2E3FC;\n",
              "      }\n",
              "\n",
              "      [theme=dark] .colab-df-generate:hover {\n",
              "        background-color: #434B5C;\n",
              "        box-shadow: 0px 1px 3px 1px rgba(0, 0, 0, 0.15);\n",
              "        filter: drop-shadow(0px 1px 2px rgba(0, 0, 0, 0.3));\n",
              "        fill: #FFFFFF;\n",
              "      }\n",
              "    </style>\n",
              "    <button class=\"colab-df-generate\" onclick=\"generateWithVariable('df')\"\n",
              "            title=\"Generate code using this dataframe.\"\n",
              "            style=\"display:none;\">\n",
              "\n",
              "  <svg xmlns=\"http://www.w3.org/2000/svg\" height=\"24px\"viewBox=\"0 0 24 24\"\n",
              "       width=\"24px\">\n",
              "    <path d=\"M7,19H8.4L18.45,9,17,7.55,7,17.6ZM5,21V16.75L18.45,3.32a2,2,0,0,1,2.83,0l1.4,1.43a1.91,1.91,0,0,1,.58,1.4,1.91,1.91,0,0,1-.58,1.4L9.25,21ZM18.45,9,17,7.55Zm-12,3A5.31,5.31,0,0,0,4.9,8.1,5.31,5.31,0,0,0,1,6.5,5.31,5.31,0,0,0,4.9,4.9,5.31,5.31,0,0,0,6.5,1,5.31,5.31,0,0,0,8.1,4.9,5.31,5.31,0,0,0,12,6.5,5.46,5.46,0,0,0,6.5,12Z\"/>\n",
              "  </svg>\n",
              "    </button>\n",
              "    <script>\n",
              "      (() => {\n",
              "      const buttonEl =\n",
              "        document.querySelector('#id_3a1f5fb7-804c-42a8-9468-d0f5d26a56dd button.colab-df-generate');\n",
              "      buttonEl.style.display =\n",
              "        google.colab.kernel.accessAllowed ? 'block' : 'none';\n",
              "\n",
              "      buttonEl.onclick = () => {\n",
              "        google.colab.notebook.generateWithVariable('df');\n",
              "      }\n",
              "      })();\n",
              "    </script>\n",
              "  </div>\n",
              "\n",
              "    </div>\n",
              "  </div>\n"
            ],
            "application/vnd.google.colaboratory.intrinsic+json": {
              "type": "dataframe",
              "variable_name": "df"
            }
          },
          "metadata": {}
        }
      ],
      "source": [
        "file_path = '/content/drive/MyDrive/Skripsi_21.11.4123_AliviaDA/Data_Balita_Desa_Mlese.xlsx'\n",
        "df = pd.read_excel(file_path, sheet_name='Data_Balita_Desa_Mlese', header=0)\n",
        "display(df)"
      ]
    },
    {
      "cell_type": "code",
      "execution_count": 82,
      "metadata": {
        "colab": {
          "base_uri": "https://localhost:8080/"
        },
        "id": "O9lKzAfIvQBp",
        "outputId": "44334130-4606-49a2-ed32-5014181b913d"
      },
      "outputs": [
        {
          "output_type": "stream",
          "name": "stdout",
          "text": [
            "Dataset shape: (1617, 22)\n"
          ]
        }
      ],
      "source": [
        "print(f\"Dataset shape: {df.shape}\")"
      ]
    },
    {
      "cell_type": "code",
      "execution_count": 83,
      "metadata": {
        "colab": {
          "base_uri": "https://localhost:8080/"
        },
        "id": "Ep1iK7S9vdZ_",
        "outputId": "295d0973-7e10-46a1-bd8a-dad8391dff56"
      },
      "outputs": [
        {
          "output_type": "stream",
          "name": "stdout",
          "text": [
            "\n",
            "Informasi Umum Dataset:\n",
            "<class 'pandas.core.frame.DataFrame'>\n",
            "RangeIndex: 1617 entries, 0 to 1616\n",
            "Data columns (total 22 columns):\n",
            " #   Column                  Non-Null Count  Dtype  \n",
            "---  ------                  --------------  -----  \n",
            " 0   No                      1617 non-null   int64  \n",
            " 1   Nama Anak               1617 non-null   object \n",
            " 2   Tanggal Lahir           1617 non-null   object \n",
            " 3   Umur                    1617 non-null   int64  \n",
            " 4   Jenis Kelamin           1617 non-null   object \n",
            " 5   Berat Badan Lahir (Kg)  1617 non-null   object \n",
            " 6   Nama Ibu                1617 non-null   object \n",
            " 7   Desa                    1617 non-null   object \n",
            " 8   Dusun                   1617 non-null   object \n",
            " 9   Alamat                  1617 non-null   object \n",
            " 10  RT                      1616 non-null   float64\n",
            " 11  RW                      1615 non-null   float64\n",
            " 12  Tanggal Pengukuran      1617 non-null   object \n",
            " 13  BB                      1617 non-null   object \n",
            " 14  TB                      1617 non-null   object \n",
            " 15  Z-Score BB/U            1616 non-null   float64\n",
            " 16  Z-Score TB/U            1616 non-null   float64\n",
            " 17  Z-Score BB/TB           1615 non-null   float64\n",
            " 18  Status BB/U             1617 non-null   object \n",
            " 19  Status TB/U             1616 non-null   object \n",
            " 20  Status BB/TB            1617 non-null   object \n",
            " 21  Cara Ukur               1617 non-null   int64  \n",
            "dtypes: float64(5), int64(3), object(14)\n",
            "memory usage: 278.1+ KB\n",
            "None\n"
          ]
        }
      ],
      "source": [
        "# --- 1.2. Cek Struktur Awal Dataset ---\n",
        "print(\"\\nInformasi Umum Dataset:\")\n",
        "print(df.info())"
      ]
    },
    {
      "cell_type": "code",
      "execution_count": 84,
      "metadata": {
        "colab": {
          "base_uri": "https://localhost:8080/"
        },
        "id": "unaZI4klvmbc",
        "outputId": "ec13a4bf-402a-4f3e-82ba-6769a16cfb4b"
      },
      "outputs": [
        {
          "output_type": "stream",
          "name": "stdout",
          "text": [
            "Jumlah missing value per kolom:\n",
            "No                        0\n",
            "Nama Anak                 0\n",
            "Tanggal Lahir             0\n",
            "Umur                      0\n",
            "Jenis Kelamin             0\n",
            "Berat Badan Lahir (Kg)    0\n",
            "Nama Ibu                  0\n",
            "Desa                      0\n",
            "Dusun                     0\n",
            "Alamat                    0\n",
            "RT                        1\n",
            "RW                        2\n",
            "Tanggal Pengukuran        0\n",
            "BB                        0\n",
            "TB                        0\n",
            "Z-Score BB/U              1\n",
            "Z-Score TB/U              1\n",
            "Z-Score BB/TB             2\n",
            "Status BB/U               0\n",
            "Status TB/U               1\n",
            "Status BB/TB              0\n",
            "Cara Ukur                 0\n",
            "dtype: int64\n"
          ]
        }
      ],
      "source": [
        "# Cek nilai hilang\n",
        "print(\"Jumlah missing value per kolom:\")\n",
        "print(df.isnull().sum())"
      ]
    },
    {
      "cell_type": "code",
      "execution_count": 85,
      "metadata": {
        "colab": {
          "base_uri": "https://localhost:8080/"
        },
        "id": "reVzQTOFGbT1",
        "outputId": "0e24b234-6891-4750-df98-b2ca5b9b3819"
      },
      "outputs": [
        {
          "output_type": "stream",
          "name": "stdout",
          "text": [
            "✅ Nama kolom setelah normalisasi:\n",
            "['No', 'Nama Anak', 'Tanggal Lahir', 'Umur', 'Jenis Kelamin', 'Berat Badan Lahir (Kg)', 'Nama Ibu', 'Desa', 'Dusun', 'Alamat', 'RT', 'RW', 'Tanggal Pengukuran', 'BB', 'TB', 'Z-Score BB/U', 'Z-Score TB/U', 'Z-Score BB/TB', 'Status BB/U', 'Status TB/U', 'Status BB/TB', 'Cara Ukur']\n"
          ]
        }
      ],
      "source": [
        "# ============================================================\n",
        "# NORMALISASI NAMA KOLOM (Versi Final, Menjaga Format Asli)\n",
        "# ============================================================\n",
        "\n",
        "# 1️⃣ Hilangkan spasi berlebih\n",
        "df.columns = df.columns.str.strip()\n",
        "\n",
        "# 2️⃣ Ubah ke Huruf Awal Kapital terlebih dahulu\n",
        "df.columns = df.columns.str.title()\n",
        "\n",
        "# 3️⃣ Tetapkan kolom yang HARUS huruf besar penuh\n",
        "kolom_kapital_penuh = ['RT', 'RW', 'BB', 'TB']\n",
        "\n",
        "# 4️⃣ Ganti kembali kolom z-score & status agar sama persis dengan format asli\n",
        "mapping_kolom_asli = {\n",
        "    'Z-Score Bb/U': 'Z-Score BB/U',\n",
        "    'Z-Score Tb/U': 'Z-Score TB/U',\n",
        "    'Z-Score Bb/Tb': 'Z-Score BB/TB',\n",
        "    'Status Bb/U': 'Status BB/U',\n",
        "    'Status Tb/U': 'Status TB/U',\n",
        "    'Status Bb/Tb': 'Status BB/TB',\n",
        "}\n",
        "\n",
        "# 5️⃣ Terapkan perbaikan\n",
        "df.rename(columns=mapping_kolom_asli, inplace=True)\n",
        "\n",
        "# 6️⃣ Perbaiki RT, RW, BB, TB supaya huruf besar semua\n",
        "df.columns = [\n",
        "    col.upper() if col.upper() in kolom_kapital_penuh else col\n",
        "    for col in df.columns\n",
        "]\n",
        "\n",
        "# 7️⃣ Cek hasil akhir\n",
        "print(\"✅ Nama kolom setelah normalisasi:\")\n",
        "print(df.columns.tolist())"
      ]
    },
    {
      "cell_type": "code",
      "execution_count": 86,
      "metadata": {
        "colab": {
          "base_uri": "https://localhost:8080/"
        },
        "id": "M0GY3BJ5C7Sh",
        "outputId": "d9dae90c-1298-4c48-bbdc-aab5f5442832"
      },
      "outputs": [
        {
          "output_type": "stream",
          "name": "stdout",
          "text": [
            "\n",
            "Daftar Kolom Awal:\n",
            "['No', 'Nama Anak', 'Tanggal Lahir', 'Umur', 'Jenis Kelamin', 'Berat Badan Lahir (Kg)', 'Nama Ibu', 'Desa', 'Dusun', 'Alamat', 'RT', 'RW', 'Tanggal Pengukuran', 'BB', 'TB', 'Z-Score BB/U', 'Z-Score TB/U', 'Z-Score BB/TB', 'Status BB/U', 'Status TB/U', 'Status BB/TB', 'Cara Ukur']\n"
          ]
        }
      ],
      "source": [
        "print(\"\\nDaftar Kolom Awal:\")\n",
        "print(df.columns.tolist())"
      ]
    },
    {
      "cell_type": "code",
      "execution_count": 87,
      "metadata": {
        "colab": {
          "base_uri": "https://localhost:8080/"
        },
        "id": "ND_cLnVeDsDa",
        "outputId": "030aef2e-2730-4085-ccc3-7085cc6278fd"
      },
      "outputs": [
        {
          "output_type": "stream",
          "name": "stdout",
          "text": [
            "✅ Nama kolom berhasil dinormalisasi.\n",
            "Daftar kolom aktif: ['No', 'Nama Anak', 'Tanggal Lahir', 'Umur', 'Jenis Kelamin', 'Berat Badan Lahir (Kg)', 'Nama Ibu', 'Desa', 'Dusun', 'Alamat', 'RT', 'RW', 'Tanggal Pengukuran', 'BB', 'TB', 'Z-Score BB/U', 'Z-Score TB/U', 'Z-Score BB/TB', 'Status BB/U', 'Status TB/U', 'Status BB/TB', 'Cara Ukur']\n"
          ]
        }
      ],
      "source": [
        "# Standarisasi nama kolom agar konsisten di seluruh dataset\n",
        "col_map = {\n",
        "    'BB': 'BB',\n",
        "    'TB': 'TB',\n",
        "    'Umur': 'Umur',\n",
        "    'Jenis Kelamin': 'Jenis Kelamin',\n",
        "    'Status BB/TB': 'Status BB/TB',\n",
        "    'Status BB/U': 'Status BB/U',\n",
        "    'Status TB/U': 'Status TB/U',\n",
        "    'Z-Score BB/U': 'Z-Score BB/U',\n",
        "    'Z-Score TB/U': 'Z-Score TB/U',\n",
        "    'Z-Score BB/TB': 'Z-Score BB/TB',\n",
        "    'Berat Badan Lahir (Kg)': 'Berat Badan Lahir (Kg)',\n",
        "    'RT': 'RT',\n",
        "    'RW': 'RW',\n",
        "    'Cara Ukur': 'Cara Ukur',\n",
        "    'Desa': 'Desa',\n",
        "    'Dusun': 'Dusun'\n",
        "}\n",
        "\n",
        "# Rename kolom hanya jika ada di dataframe\n",
        "for old, new in col_map.items():\n",
        "    if old in df.columns and old != new:\n",
        "        df.rename(columns={old: new}, inplace=True)\n",
        "\n",
        "print(\"✅ Nama kolom berhasil dinormalisasi.\")\n",
        "print(\"Daftar kolom aktif:\", df.columns.tolist())\n"
      ]
    },
    {
      "cell_type": "code",
      "execution_count": 88,
      "metadata": {
        "id": "PR0sfL5Eg3ri"
      },
      "outputs": [],
      "source": [
        "# Pastikan kolom numerik memiliki tipe data numerik (float)\n",
        "numerik_cols = ['Umur', 'BB', 'TB', 'Z-Score BB/U', 'Z-Score TB/U', 'Z-Score BB/TB']"
      ]
    },
    {
      "cell_type": "code",
      "execution_count": 89,
      "metadata": {
        "id": "HMPgTtFVJ_Zc"
      },
      "outputs": [],
      "source": [
        "# Pastikan matplotlib tampil rapi\n",
        "plt.style.use('seaborn-v0_8')\n",
        "sns.set_palette(\"viridis\")"
      ]
    },
    {
      "cell_type": "code",
      "execution_count": 90,
      "metadata": {
        "colab": {
          "base_uri": "https://localhost:8080/"
        },
        "id": "Iz6Zl8LUKpAS",
        "outputId": "79c96815-0181-417c-bbb8-a2c95d67a362"
      },
      "outputs": [
        {
          "output_type": "stream",
          "name": "stdout",
          "text": [
            "=== INFORMASI DATASET ===\n",
            "<class 'pandas.core.frame.DataFrame'>\n",
            "RangeIndex: 1617 entries, 0 to 1616\n",
            "Data columns (total 22 columns):\n",
            " #   Column                  Non-Null Count  Dtype  \n",
            "---  ------                  --------------  -----  \n",
            " 0   No                      1617 non-null   int64  \n",
            " 1   Nama Anak               1617 non-null   object \n",
            " 2   Tanggal Lahir           1617 non-null   object \n",
            " 3   Umur                    1617 non-null   int64  \n",
            " 4   Jenis Kelamin           1617 non-null   object \n",
            " 5   Berat Badan Lahir (Kg)  1617 non-null   object \n",
            " 6   Nama Ibu                1617 non-null   object \n",
            " 7   Desa                    1617 non-null   object \n",
            " 8   Dusun                   1617 non-null   object \n",
            " 9   Alamat                  1617 non-null   object \n",
            " 10  RT                      1616 non-null   float64\n",
            " 11  RW                      1615 non-null   float64\n",
            " 12  Tanggal Pengukuran      1617 non-null   object \n",
            " 13  BB                      1617 non-null   object \n",
            " 14  TB                      1617 non-null   object \n",
            " 15  Z-Score BB/U            1616 non-null   float64\n",
            " 16  Z-Score TB/U            1616 non-null   float64\n",
            " 17  Z-Score BB/TB           1615 non-null   float64\n",
            " 18  Status BB/U             1617 non-null   object \n",
            " 19  Status TB/U             1616 non-null   object \n",
            " 20  Status BB/TB            1617 non-null   object \n",
            " 21  Cara Ukur               1617 non-null   int64  \n",
            "dtypes: float64(5), int64(3), object(14)\n",
            "memory usage: 278.1+ KB\n",
            "None\n",
            "\n",
            "=== STATISTIK DESKRIPTIF ===\n",
            "                         count unique                    top   freq  \\\n",
            "No                      1617.0    NaN                    NaN    NaN   \n",
            "Nama Anak                 1617    336  NIZAM AHIDQI ARSALAAN     12   \n",
            "Tanggal Lahir             1617    295             04-10-2020     31   \n",
            "Umur                    1617.0    NaN                    NaN    NaN   \n",
            "Jenis Kelamin             1617      2                      P    820   \n",
            "Berat Badan Lahir (Kg)  1617.0   99.0                    3.0  403.0   \n",
            "Nama Ibu                  1617    298       DEVI CHURNIAWATI     18   \n",
            "Desa                      1617      2                  MLESE   1594   \n",
            "Dusun                     1617      5                 NGARAN    788   \n",
            "Alamat                    1617      8                 NGARAN    771   \n",
            "RT                      1616.0    NaN                    NaN    NaN   \n",
            "RW                      1615.0    NaN                    NaN    NaN   \n",
            "Tanggal Pengukuran        1617     43             11-02-2021    174   \n",
            "BB                      1617.0  489.0                   15.0   31.0   \n",
            "TB                      1617.0  207.0                   97.0   47.0   \n",
            "Z-Score BB/U            1616.0    NaN                    NaN    NaN   \n",
            "Z-Score TB/U            1616.0    NaN                    NaN    NaN   \n",
            "Z-Score BB/TB           1615.0    NaN                    NaN    NaN   \n",
            "Status BB/U               1617      4                 Normal   1348   \n",
            "Status TB/U               1616      4                 Normal   1303   \n",
            "Status BB/TB              1617      7              Gizi Baik   1277   \n",
            "Cara Ukur               1617.0    NaN                    NaN    NaN   \n",
            "\n",
            "                             mean         std   min    25%    50%     75%  \\\n",
            "No                          809.0  466.932008   1.0  405.0  809.0  1213.0   \n",
            "Nama Anak                     NaN         NaN   NaN    NaN    NaN     NaN   \n",
            "Tanggal Lahir                 NaN         NaN   NaN    NaN    NaN     NaN   \n",
            "Umur                    29.955473   16.959708   0.0   15.0   30.0    45.0   \n",
            "Jenis Kelamin                 NaN         NaN   NaN    NaN    NaN     NaN   \n",
            "Berat Badan Lahir (Kg)        NaN         NaN   NaN    NaN    NaN     NaN   \n",
            "Nama Ibu                      NaN         NaN   NaN    NaN    NaN     NaN   \n",
            "Desa                          NaN         NaN   NaN    NaN    NaN     NaN   \n",
            "Dusun                         NaN         NaN   NaN    NaN    NaN     NaN   \n",
            "Alamat                        NaN         NaN   NaN    NaN    NaN     NaN   \n",
            "RT                       1.964728    0.809001   1.0    1.0    2.0     3.0   \n",
            "RW                       3.390712    1.899987   1.0    2.0    3.0     5.0   \n",
            "Tanggal Pengukuran            NaN         NaN   NaN    NaN    NaN     NaN   \n",
            "BB                            NaN         NaN   NaN    NaN    NaN     NaN   \n",
            "TB                            NaN         NaN   NaN    NaN    NaN     NaN   \n",
            "Z-Score BB/U            -0.029858    1.476943 -4.91  -0.79  -0.12    0.63   \n",
            "Z-Score TB/U            -0.180483    1.452475 -24.7  -0.82   -0.1    0.56   \n",
            "Z-Score BB/TB             0.13239    1.502888 -17.0  -0.46   0.06   0.515   \n",
            "Status BB/U                   NaN         NaN   NaN    NaN    NaN     NaN   \n",
            "Status TB/U                   NaN         NaN   NaN    NaN    NaN     NaN   \n",
            "Status BB/TB                  NaN         NaN   NaN    NaN    NaN     NaN   \n",
            "Cara Ukur                1.593692    0.491295   1.0    1.0    2.0     2.0   \n",
            "\n",
            "                           max  \n",
            "No                      1617.0  \n",
            "Nama Anak                  NaN  \n",
            "Tanggal Lahir              NaN  \n",
            "Umur                      60.0  \n",
            "Jenis Kelamin              NaN  \n",
            "Berat Badan Lahir (Kg)     NaN  \n",
            "Nama Ibu                   NaN  \n",
            "Desa                       NaN  \n",
            "Dusun                      NaN  \n",
            "Alamat                     NaN  \n",
            "RT                         3.0  \n",
            "RW                         7.0  \n",
            "Tanggal Pengukuran         NaN  \n",
            "BB                         NaN  \n",
            "TB                         NaN  \n",
            "Z-Score BB/U              17.0  \n",
            "Z-Score TB/U              10.8  \n",
            "Z-Score BB/TB            24.17  \n",
            "Status BB/U                NaN  \n",
            "Status TB/U                NaN  \n",
            "Status BB/TB               NaN  \n",
            "Cara Ukur                  2.0  \n"
          ]
        }
      ],
      "source": [
        "print(\"=== INFORMASI DATASET ===\")\n",
        "print(df.info())\n",
        "print(\"\\n=== STATISTIK DESKRIPTIF ===\")\n",
        "print(df.describe(include='all').T)"
      ]
    },
    {
      "cell_type": "markdown",
      "metadata": {
        "id": "zSDCGNyKEocC"
      },
      "source": [
        "# **3. EDA**"
      ]
    },
    {
      "cell_type": "code",
      "execution_count": 91,
      "metadata": {
        "colab": {
          "base_uri": "https://localhost:8080/",
          "height": 756
        },
        "id": "yX0bhIVmKyV9",
        "outputId": "f63c3437-d8ed-429e-c7d0-611ac15aeceb"
      },
      "outputs": [
        {
          "output_type": "display_data",
          "data": {
            "text/plain": [
              "<Figure size 1200x800 with 4 Axes>"
            ],
            "image/png": "[encoded data removed]"
          },
          "metadata": {}
        }
      ],
      "source": [
        "#DISTRIBUSI VARIABEL NUMERIK\n",
        "numerik_cols = ['Umur', 'BB', 'TB', 'Z-Score BB/U', 'Z-Score TB/U', 'Z-Score BB/TB']\n",
        "df[numerik_cols].hist(figsize=(12, 8), bins=20, edgecolor='black')\n",
        "plt.suptitle(\"Distribusi Variabel Numerik\", fontsize=14)\n",
        "plt.show()"
      ]
    },
    {
      "cell_type": "code",
      "execution_count": 92,
      "metadata": {
        "colab": {
          "base_uri": "https://localhost:8080/",
          "height": 1000
        },
        "id": "AauIiISTMBSl",
        "outputId": "103f2358-f184-4d57-e4d7-cbd2b75d5764"
      },
      "outputs": [
        {
          "output_type": "display_data",
          "data": {
            "text/plain": [
              "<Figure size 600x400 with 1 Axes>"
            ],
            "image/png": "[encoded data removed]"
          },
          "metadata": {}
        },
        {
          "output_type": "display_data",
          "data": {
            "text/plain": [
              "<Figure size 600x400 with 1 Axes>"
            ],
            "image/png": "[encoded data removed]"
          },
          "metadata": {}
        },
        {
          "output_type": "display_data",
          "data": {
            "text/plain": [
              "<Figure size 600x400 with 1 Axes>"
            ],
            "image/png": "[encoded data removed]"
          },
          "metadata": {}
        },
        {
          "output_type": "display_data",
          "data": {
            "text/plain": [
              "<Figure size 600x400 with 1 Axes>"
            ],
            "image/png": "[encoded data removed]"
          },
          "metadata": {}
        },
        {
          "output_type": "display_data",
          "data": {
            "text/plain": [
              "<Figure size 600x400 with 1 Axes>"
            ],
            "image/png": "[encoded data removed]"
          },
          "metadata": {}
        },
        {
          "output_type": "display_data",
          "data": {
            "text/plain": [
              "<Figure size 600x400 with 1 Axes>"
            ],
            "image/png": "[encoded data removed]"
          },
          "metadata": {}
        }
      ],
      "source": [
        "#DISTRIBUSI DATA KATEGORIKAL\n",
        "kategori_cols = ['Jenis Kelamin', 'Desa', 'Dusun', 'Status BB/U', 'Status TB/U', 'Status BB/TB']\n",
        "for col in kategori_cols:\n",
        "    if col in df.columns:\n",
        "        plt.figure(figsize=(6, 4))\n",
        "        sns.countplot(data=df, x=col, hue=col, legend=False)\n",
        "        plt.title(f\"Distribusi {col}\")\n",
        "        plt.xticks(rotation=45)\n",
        "        plt.tight_layout()\n",
        "        plt.show()"
      ]
    },
    {
      "cell_type": "code",
      "execution_count": 93,
      "metadata": {
        "colab": {
          "base_uri": "https://localhost:8080/",
          "height": 592
        },
        "id": "f9zihnE7MTGa",
        "outputId": "0d2957a3-6202-4744-fe16-119285c9497d"
      },
      "outputs": [
        {
          "output_type": "display_data",
          "data": {
            "text/plain": [
              "<Figure size 600x400 with 1 Axes>"
            ],
            "image/png": "[encoded data removed]"
          },
          "metadata": {}
        },
        {
          "output_type": "stream",
          "name": "stdout",
          "text": [
            "🔍 Distribusi Kelas Target:\n",
            "Status BB/TB\n",
            "Gizi Baik          78.97%\n",
            "Resiko Gizi Lbh     8.72%\n",
            "Gizi Kurang         5.07%\n",
            "Obesitas            3.71%\n",
            "Gizi Lebih          2.35%\n",
            "Gizi Buruk          1.11%\n",
            "Giizi Baik          0.06%\n",
            "Name: proportion, dtype: object\n"
          ]
        }
      ],
      "source": [
        "#DISTRIBUSI TARGET VARIABEL (IMBALANCE CEK)\n",
        "target_col = 'Status BB/TB'  # ubah jika target kamu berbeda\n",
        "if target_col in df.columns:\n",
        "    plt.figure(figsize=(6, 4))\n",
        "    sns.countplot(data=df, x=target_col, hue=target_col, legend=False)\n",
        "    plt.title(\"Distribusi Target (Cek Imbalance Data)\")\n",
        "    plt.xlabel(\"Status Gizi (BB/TB)\")\n",
        "    plt.ylabel(\"Jumlah Balita\")\n",
        "    plt.tight_layout()\n",
        "    plt.show()\n",
        "\n",
        "    print(\"🔍 Distribusi Kelas Target:\")\n",
        "    print(df[target_col].value_counts(normalize=True).apply(lambda x: f\"{x*100:.2f}%\"))"
      ]
    },
    {
      "cell_type": "code",
      "execution_count": 94,
      "metadata": {
        "colab": {
          "base_uri": "https://localhost:8080/",
          "height": 641
        },
        "id": "QU5iX2bpMgs7",
        "outputId": "c9b44327-d063-4852-d351-47e0602e0c66"
      },
      "outputs": [
        {
          "output_type": "display_data",
          "data": {
            "text/plain": [
              "<Figure size 1000x600 with 2 Axes>"
            ],
            "image/png": "[encoded data removed]"
          },
          "metadata": {}
        },
        {
          "output_type": "stream",
          "name": "stdout",
          "text": [
            "✅ EDA selesai. Siap lanjut ke proses mapping RT/RW → Posyandu.\n"
          ]
        }
      ],
      "source": [
        "# =============================================================================\n",
        "# Korelasi Antar Fitur Numerik dan Target\n",
        "# =============================================================================\n",
        "\n",
        "target_col = 'Status BB/TB'  # sesuaikan dengan target utama kamu\n",
        "\n",
        "if target_col in df.columns:\n",
        "    df_corr = df.copy()\n",
        "\n",
        "    # Ubah target menjadi kode numerik agar bisa dihitung korelasinya\n",
        "    df_corr[target_col] = df_corr[target_col].astype('category').cat.codes\n",
        "\n",
        "    # Pilih hanya kolom numerik\n",
        "    numeric_only = df_corr.select_dtypes(include=['number'])\n",
        "\n",
        "    # Hitung korelasi\n",
        "    corr_matrix = numeric_only.corr()\n",
        "\n",
        "    # Visualisasi heatmap korelasi\n",
        "    plt.figure(figsize=(10, 6))\n",
        "    sns.heatmap(corr_matrix, cmap='YlGnBu', annot=True, fmt=\".2f\")\n",
        "    plt.title(\"Heatmap Korelasi (Termasuk Target)\", fontsize=14)\n",
        "    plt.show()\n",
        "\n",
        "print(\"✅ EDA selesai. Siap lanjut ke proses mapping RT/RW → Posyandu.\")\n"
      ]
    },
    {
      "cell_type": "markdown",
      "metadata": {
        "id": "-yiPbnGw45hK"
      },
      "source": [
        "# **4. PRE-PROCESSING DATA**"
      ]
    },
    {
      "cell_type": "code",
      "execution_count": 95,
      "metadata": {
        "id": "FsdT5Tevbrja"
      },
      "outputs": [],
      "source": [
        "df_processed = df.copy()"
      ]
    },
    {
      "cell_type": "markdown",
      "metadata": {
        "id": "gHuQE0gED4Kd"
      },
      "source": [
        "- penanganan missing value"
      ]
    },
    {
      "cell_type": "code",
      "execution_count": 96,
      "metadata": {
        "id": "EI45jHg0D6wo"
      },
      "outputs": [],
      "source": [
        "# Karena hanya sedikit yang kosong, isi dengan modus (nilai yang paling sering muncul)\n",
        "if df_processed['RT'].isnull().sum() > 0:\n",
        "    df_processed['RT'] = df_processed['RT'].fillna(df_processed['RT'].mode()[0])\n",
        "if df_processed['RW'].isnull().sum() > 0:\n",
        "    df_processed['RW'] = df_processed['RW'].fillna(df_processed['RW'].mode()[0])"
      ]
    },
    {
      "cell_type": "code",
      "execution_count": 97,
      "metadata": {
        "id": "e5n-yORUEMBU"
      },
      "outputs": [],
      "source": [
        "# Pastikan format RT dan RW rapi (dua digit)\n",
        "df_processed['RT'] = pd.to_numeric(df_processed['RT'], errors='coerce').fillna(0).astype(int).astype(str).str.zfill(2)\n",
        "df_processed['RW'] = pd.to_numeric(df_processed['RW'], errors='coerce').fillna(0).astype(int).astype(str).str.zfill(2)"
      ]
    },
    {
      "cell_type": "code",
      "execution_count": 98,
      "metadata": {
        "id": "YzgMH76_ENOV"
      },
      "outputs": [],
      "source": [
        "# Gunakan median karena data z-score bisa memiliki outlier\n",
        "zscore_cols = ['Z-Score BB/U', 'Z-Score TB/U', 'Z-Score BB/TB']\n",
        "for col in zscore_cols:\n",
        "    if col in df_processed.columns:\n",
        "        df_processed[col] = pd.to_numeric(df_processed[col], errors='coerce').fillna(df_processed[col].median())"
      ]
    },
    {
      "cell_type": "code",
      "execution_count": 99,
      "metadata": {
        "id": "KlJA_FFMESV3"
      },
      "outputs": [],
      "source": [
        "# Gunakan modus untuk mempertahankan distribusi kelas yang paling sering muncul\n",
        "if 'Status TB/U' in df_processed.columns:\n",
        "    df_processed['Status TB/U'] = df_processed['Status TB/U'].fillna(df_processed['Status TB/U'].mode()[0])"
      ]
    },
    {
      "cell_type": "code",
      "execution_count": 100,
      "metadata": {
        "colab": {
          "base_uri": "https://localhost:8080/"
        },
        "id": "26NrcB6FEX1z",
        "outputId": "98be908d-3e61-495b-bc9a-77d289b651d1"
      },
      "outputs": [
        {
          "output_type": "stream",
          "name": "stdout",
          "text": [
            "\n",
            "✅ Semua missing value berhasil diisi.\n"
          ]
        }
      ],
      "source": [
        "missing_check = df_processed.isnull().sum()\n",
        "missing_check = missing_check[missing_check > 0]\n",
        "\n",
        "if missing_check.empty:\n",
        "    print(\"\\n✅ Semua missing value berhasil diisi.\")\n",
        "else:\n",
        "    print(\"\\n⚠️ Masih ada missing value pada kolom berikut:\")\n",
        "    print(missing_check)"
      ]
    },
    {
      "cell_type": "code",
      "execution_count": 101,
      "metadata": {
        "colab": {
          "base_uri": "https://localhost:8080/"
        },
        "id": "m-XcZVZ5EfQm",
        "outputId": "de3af613-3089-4b4f-965e-c1c47c89d84f"
      },
      "outputs": [
        {
          "output_type": "stream",
          "name": "stdout",
          "text": [
            "\n",
            "Jumlah missing value per kolom (setelah diisi):\n",
            "No                        0\n",
            "Nama Anak                 0\n",
            "Tanggal Lahir             0\n",
            "Umur                      0\n",
            "Jenis Kelamin             0\n",
            "Berat Badan Lahir (Kg)    0\n",
            "Nama Ibu                  0\n",
            "Desa                      0\n",
            "Dusun                     0\n",
            "Alamat                    0\n",
            "RT                        0\n",
            "RW                        0\n",
            "Tanggal Pengukuran        0\n",
            "BB                        0\n",
            "TB                        0\n",
            "Z-Score BB/U              0\n",
            "Z-Score TB/U              0\n",
            "Z-Score BB/TB             0\n",
            "Status BB/U               0\n",
            "Status TB/U               0\n",
            "Status BB/TB              0\n",
            "Cara Ukur                 0\n",
            "dtype: int64\n",
            "\n",
            "Contoh data setelah proses ini:\n",
            "    RT   RW  Z-Score BB/U  Z-Score TB/U  Z-Score BB/TB Status TB/U\n",
            "0  1.0  1.0           0.5          -0.2            0.8      Normal\n",
            "1  1.0  1.0          -0.8           0.5           -0.6      Normal\n",
            "2  1.0  1.0          -1.2          -1.0           -0.5      Normal\n",
            "3  1.0  1.0           1.5           0.8            1.8      Normal\n",
            "4  1.0  2.0           1.8           1.2            2.2      Normal\n"
          ]
        }
      ],
      "source": [
        "# --- 2.5. Hasil akhir setelah penanganan missing value ---\n",
        "print(\"\\nJumlah missing value per kolom (setelah diisi):\")\n",
        "print(df_processed.isnull().sum())\n",
        "print(\"\\nContoh data setelah proses ini:\")\n",
        "print(df[['RT', 'RW', 'Z-Score BB/U', 'Z-Score TB/U', 'Z-Score BB/TB', 'Status TB/U']].head())"
      ]
    },
    {
      "cell_type": "code",
      "execution_count": 102,
      "metadata": {
        "colab": {
          "base_uri": "https://localhost:8080/"
        },
        "id": "wbZuaSOdg5A0",
        "outputId": "41c83675-9895-40d6-cd07-02a6edeb8e88"
      },
      "outputs": [
        {
          "output_type": "stream",
          "name": "stdout",
          "text": [
            "✅ Semua kolom numerik sudah dikonversi ke tipe float.\n",
            "Umur             float64\n",
            "BB               float64\n",
            "TB               float64\n",
            "Z-Score BB/U     float64\n",
            "Z-Score TB/U     float64\n",
            "Z-Score BB/TB    float64\n",
            "dtype: object\n"
          ]
        }
      ],
      "source": [
        "# Ganti koma menjadi titik dan ubah ke float\n",
        "for col in numerik_cols:\n",
        "    df_processed[col] = df_processed[col].astype(str).str.replace(',', '.').astype(float)\n",
        "\n",
        "print(\"✅ Semua kolom numerik sudah dikonversi ke tipe float.\")\n",
        "print(df_processed[numerik_cols].dtypes)"
      ]
    },
    {
      "cell_type": "code",
      "execution_count": 103,
      "metadata": {
        "colab": {
          "base_uri": "https://localhost:8080/",
          "height": 544
        },
        "id": "Rge0VOP0MKB8",
        "outputId": "5cf66017-bce7-414f-90c1-c13854449bcb"
      },
      "outputs": [
        {
          "output_type": "display_data",
          "data": {
            "text/plain": [
              "<Figure size 1000x600 with 2 Axes>"
            ],
            "image/png": "[encoded data removed]"
          },
          "metadata": {}
        }
      ],
      "source": [
        "#KORELASI ANTAR VARIABEL NUMERIK\n",
        "plt.figure(figsize=(10, 6))\n",
        "corr_matrix = df_processed[numerik_cols].corr()\n",
        "sns.heatmap(corr_matrix, annot=True, cmap='coolwarm', fmt=\".2f\")\n",
        "plt.title(\"Korelasi Antar Variabel Numerik\", fontsize=14)\n",
        "plt.show()"
      ]
    },
    {
      "cell_type": "code",
      "execution_count": 104,
      "metadata": {
        "colab": {
          "base_uri": "https://localhost:8080/"
        },
        "id": "G2qWRlzsHmk4",
        "outputId": "3d282e67-3940-4237-d11c-1b1492c9d621"
      },
      "outputs": [
        {
          "output_type": "stream",
          "name": "stdout",
          "text": [
            "📋 Nilai unik kolom 'Desa' setelah pembersihan:\n",
            "['MLESE']\n"
          ]
        }
      ],
      "source": [
        "# Bersihkan kolom 'Desa' dari spasi dan variasi penulisan\n",
        "df_processed['Desa'] = df_processed['Desa'].str.strip().str.upper()\n",
        "\n",
        "# Tampilkan nilai unik setelah pembersihan\n",
        "print(\"📋 Nilai unik kolom 'Desa' setelah pembersihan:\")\n",
        "print(df_processed['Desa'].unique())"
      ]
    },
    {
      "cell_type": "code",
      "execution_count": 105,
      "metadata": {
        "colab": {
          "base_uri": "https://localhost:8080/"
        },
        "id": "zctA3GdFIPLh",
        "outputId": "a232b1cf-d1ec-4ae0-af60-5d3735d06d1a"
      },
      "outputs": [
        {
          "output_type": "stream",
          "name": "stdout",
          "text": [
            "📋 Nilai unik kolom 'Dusun' setelah perbaikan:\n",
            "['NGARAN' 'SRAGON' 'MLESE']\n"
          ]
        }
      ],
      "source": [
        "#Perbaikan pada kolom Dusun\n",
        "# Bersihkan teks kolom 'Dusun'\n",
        "df_processed['Dusun'] = df_processed['Dusun'].str.strip().str.upper()\n",
        "\n",
        "# Normalisasi ejaan yang salah\n",
        "df_processed['Dusun'] = df_processed['Dusun'].replace({\n",
        "    'SRAGON': 'SRAGON',   # Pastikan ejaan baku\n",
        "    'SRAGON ': 'SRAGON',  # Hilangkan spasi\n",
        "    'SRAGONN': 'SRAGON',  # Kalau ada typo\n",
        "    'NGARAN ': 'NGARAN',  # Hilangkan spasi\n",
        "    'MLESE ': 'MLESE'     # Pastikan konsisten\n",
        "})\n",
        "\n",
        "# Tampilkan nilai unik setelah diperbaiki\n",
        "print(\"📋 Nilai unik kolom 'Dusun' setelah perbaikan:\")\n",
        "print(df_processed['Dusun'].unique())\n"
      ]
    },
    {
      "cell_type": "code",
      "execution_count": 106,
      "metadata": {
        "colab": {
          "base_uri": "https://localhost:8080/",
          "height": 447
        },
        "id": "mlS0lg0fJKaY",
        "outputId": "5eb8bf58-841e-4e7f-d976-29dccf26ef5e"
      },
      "outputs": [
        {
          "output_type": "display_data",
          "data": {
            "text/plain": [
              "<Figure size 600x400 with 1 Axes>"
            ],
            "image/png": "[encoded data removed]"
          },
          "metadata": {}
        }
      ],
      "source": [
        "plt.figure(figsize=(6,4))\n",
        "sns.countplot(x='Dusun', data=df_processed)\n",
        "plt.title('Distribusi Dusun Setelah Perbaikan')\n",
        "plt.xticks(rotation=45)\n",
        "plt.show()"
      ]
    },
    {
      "cell_type": "markdown",
      "metadata": {
        "id": "xR0AlTLPE9V4"
      },
      "source": [
        "3.1 mapping rt/rw ke nama posyandu"
      ]
    },
    {
      "cell_type": "code",
      "execution_count": 107,
      "metadata": {
        "id": "qW7zKmRCGcmv"
      },
      "outputs": [],
      "source": [
        "# 2️⃣ Cek apakah kolom RT dan RW ada setelah normalisasi\n",
        "if 'RT' not in df.columns or 'RW' not in df.columns:\n",
        "    raise KeyError(\"Kolom 'RT' dan/atau 'RW' tidak ditemukan di dataset. Cek kembali nama kolom di file Excel!\")"
      ]
    },
    {
      "cell_type": "code",
      "execution_count": 108,
      "metadata": {
        "id": "fVHXnbgwE4aS"
      },
      "outputs": [],
      "source": [
        "# 3️⃣ Definisikan fungsi mapping posyandu\n",
        "def map_posyandu(rt, rw):\n",
        "    # Pastikan RT dan RW jadi string dua digit (contoh: 1 → '01')\n",
        "    rt = str(rt).zfill(2)\n",
        "    rw = str(rw).zfill(2)\n",
        "\n",
        "    # Larasati 1: RT 01–03 / RW 06\n",
        "    if rw == '06' and rt in ['01', '02', '03']:\n",
        "        return 'Larasati 1'\n",
        "\n",
        "    # Larasati 2: RT 01–02 / RW 04–05\n",
        "    elif rw in ['04', '05'] and rt in ['01', '02']:\n",
        "        return 'Larasati 2'\n",
        "\n",
        "    # Larasati 3: RT 01–03 / RW 02–03\n",
        "    elif rw in ['02', '03'] and rt in ['01', '02', '03']:\n",
        "        return 'Larasati 3'\n",
        "\n",
        "    # Larasati 4: RT 01–03 / RW 01\n",
        "    elif rw == '01' and rt in ['01', '02', '03']:\n",
        "        return 'Larasati 4'\n",
        "\n",
        "    # Larasati 5: RT 01–03 / RW 07\n",
        "    elif rw == '07' and rt in ['01', '02', '03']:\n",
        "        return 'Larasati 5'\n",
        "\n",
        "    # Selain kombinasi di atas\n",
        "    else:\n",
        "        return 'Lainnya'\n",
        "\n",
        "#4️⃣ Terapkan fungsi mapping ke DataFrame\n",
        "df_processed['Posyandu'] = df_processed.apply(lambda row: map_posyandu(row['RT'], row['RW']), axis=1)"
      ]
    },
    {
      "cell_type": "code",
      "execution_count": 109,
      "metadata": {
        "colab": {
          "base_uri": "https://localhost:8080/"
        },
        "id": "gEV-giZxG2iw",
        "outputId": "13c08393-b9c3-43ab-fdaf-c827669de288"
      },
      "outputs": [
        {
          "output_type": "stream",
          "name": "stdout",
          "text": [
            "✅ Kolom 'Posyandu' berhasil dibuat berdasarkan kombinasi RT dan RW .\n",
            "   RT  RW    Posyandu\n",
            "0  01  01  Larasati 4\n",
            "1  01  01  Larasati 4\n",
            "2  01  01  Larasati 4\n",
            "3  01  01  Larasati 4\n",
            "4  01  02  Larasati 3\n",
            "5  01  02  Larasati 3\n",
            "6  02  01  Larasati 4\n",
            "7  02  01  Larasati 4\n",
            "8  02  01  Larasati 4\n",
            "9  02  01  Larasati 4\n"
          ]
        }
      ],
      "source": [
        "# 5️⃣ Cek hasil mapping\n",
        "print(\"✅ Kolom 'Posyandu' berhasil dibuat berdasarkan kombinasi RT dan RW .\")\n",
        "print(df_processed[['RT', 'RW', 'Posyandu']].head(10))"
      ]
    },
    {
      "cell_type": "code",
      "execution_count": 110,
      "metadata": {
        "colab": {
          "base_uri": "https://localhost:8080/"
        },
        "id": "rtU2_bGSao2o",
        "outputId": "18f03468-18b1-419d-afe1-3961b2828497"
      },
      "outputs": [
        {
          "output_type": "stream",
          "name": "stdout",
          "text": [
            "✅ Kolom 'Posyandu' berhasil di-encode tanpa menghapus kategori apa pun.\n",
            "   Posyandu_Larasati 1  Posyandu_Larasati 2  Posyandu_Larasati 3  \\\n",
            "0                  0.0                  0.0                  0.0   \n",
            "1                  0.0                  0.0                  0.0   \n",
            "2                  0.0                  0.0                  0.0   \n",
            "3                  0.0                  0.0                  0.0   \n",
            "4                  0.0                  0.0                  1.0   \n",
            "5                  0.0                  0.0                  1.0   \n",
            "6                  0.0                  0.0                  0.0   \n",
            "7                  0.0                  0.0                  0.0   \n",
            "8                  0.0                  0.0                  0.0   \n",
            "9                  0.0                  0.0                  0.0   \n",
            "\n",
            "   Posyandu_Larasati 4  Posyandu_Larasati 5  \n",
            "0                  1.0                  0.0  \n",
            "1                  1.0                  0.0  \n",
            "2                  1.0                  0.0  \n",
            "3                  1.0                  0.0  \n",
            "4                  0.0                  0.0  \n",
            "5                  0.0                  0.0  \n",
            "6                  1.0                  0.0  \n",
            "7                  1.0                  0.0  \n",
            "8                  1.0                  0.0  \n",
            "9                  1.0                  0.0  \n"
          ]
        }
      ],
      "source": [
        "# =============================================================================\n",
        "# 6. ENCODING KOLOM 'POSYANDU' (ONE-HOT ENCODING TANPA DROP)\n",
        "# =============================================================================\n",
        "\n",
        "# Inisialisasi encoder tanpa drop\n",
        "encoder = OneHotEncoder(drop=None, sparse_output=False)\n",
        "\n",
        "# Transform kolom Posyandu\n",
        "posyandu_encoded = encoder.fit_transform(df_processed[['Posyandu']])\n",
        "\n",
        "# Ambil nama kolom hasil encoding\n",
        "encoded_cols = encoder.get_feature_names_out(['Posyandu'])\n",
        "\n",
        "# Buat DataFrame hasil encoding\n",
        "df_posyandu_encoded = pd.DataFrame(posyandu_encoded, columns=encoded_cols, index=df_processed.index)\n",
        "\n",
        "# Gabungkan hasil encoding dengan df_processed\n",
        "df_processed = pd.concat([df_processed, df_posyandu_encoded], axis=1)\n",
        "\n",
        "# Hapus kolom aslinya karena sudah digantikan versi numerik\n",
        "df_processed.drop('Posyandu', axis=1, inplace=True)\n",
        "\n",
        "print(\"✅ Kolom 'Posyandu' berhasil di-encode tanpa menghapus kategori apa pun.\")\n",
        "print(df_processed.filter(like='Posyandu').head(10))\n"
      ]
    },
    {
      "cell_type": "markdown",
      "metadata": {
        "id": "s9SSw43eHXTm"
      },
      "source": [
        "3.2 One-Hot Encoding & Seleksi Fitur"
      ]
    },
    {
      "cell_type": "code",
      "execution_count": 111,
      "metadata": {
        "colab": {
          "base_uri": "https://localhost:8080/"
        },
        "id": "HUAtDi3v1O_n",
        "outputId": "c1a69d31-cf9b-481a-85c2-ec46f105d22f"
      },
      "outputs": [
        {
          "output_type": "stream",
          "name": "stdout",
          "text": [
            "['No', 'Nama Anak', 'Tanggal Lahir', 'Umur', 'Jenis Kelamin', 'Berat Badan Lahir (Kg)', 'Nama Ibu', 'Desa', 'Dusun', 'Alamat', 'RT', 'RW', 'Tanggal Pengukuran', 'BB', 'TB', 'Z-Score BB/U', 'Z-Score TB/U', 'Z-Score BB/TB', 'Status BB/U', 'Status TB/U', 'Status BB/TB', 'Cara Ukur', 'Posyandu_Larasati 1', 'Posyandu_Larasati 2', 'Posyandu_Larasati 3', 'Posyandu_Larasati 4', 'Posyandu_Larasati 5']\n"
          ]
        }
      ],
      "source": [
        "print(df_processed.columns.tolist())"
      ]
    },
    {
      "cell_type": "code",
      "execution_count": 112,
      "metadata": {
        "colab": {
          "base_uri": "https://localhost:8080/"
        },
        "id": "eu8SH2TbvJxe",
        "outputId": "9251d518-33a4-4fc9-aa8e-02e43eeba920"
      },
      "outputs": [
        {
          "output_type": "stream",
          "name": "stdout",
          "text": [
            "✅ Kolom 'Jenis Kelamin' berhasil di-encode (L=1, P=0)\n",
            "   Jenis Kelamin\n",
            "0              0\n",
            "1              0\n",
            "2              1\n",
            "3              1\n",
            "4              1\n"
          ]
        }
      ],
      "source": [
        "# Encoding Kolom 'Jenis Kelamin' menggunakan Mapping Encoding\n",
        "if 'Jenis Kelamin' in df_processed.columns:\n",
        "    df_processed['Jenis Kelamin'] = df_processed['Jenis Kelamin'].map({'L': 1, 'P': 0})\n",
        "    print(\"✅ Kolom 'Jenis Kelamin' berhasil di-encode (L=1, P=0)\")\n",
        "else:\n",
        "    print(\"⚠️ Kolom 'Jenis Kelamin' tidak ditemukan dalam dataset.\")\n",
        "\n",
        "# Cek hasil\n",
        "print(df_processed[['Jenis Kelamin']].head())"
      ]
    },
    {
      "cell_type": "code",
      "execution_count": 113,
      "metadata": {
        "colab": {
          "base_uri": "https://localhost:8080/"
        },
        "id": "p1ZsyMCpzvHY",
        "outputId": "24498832-2ec5-40fc-a59d-3805490d3195"
      },
      "outputs": [
        {
          "output_type": "stream",
          "name": "stdout",
          "text": [
            "📋 Nilai unik pada kolom 'Dusun' setelah dibersihkan:\n",
            "['NGARAN' 'SRAGON' 'MLESE']\n",
            "\n",
            "✅ One-Hot Encoding untuk kolom 'Dusun' berhasil dilakukan.\n",
            "🔍 Kolom baru hasil encoding:\n",
            "['Dusun_MLESE', 'Dusun_NGARAN', 'Dusun_SRAGON']\n",
            "\n",
            "🔍 Contoh data setelah encoding:\n",
            "   Dusun_MLESE  Dusun_NGARAN  Dusun_SRAGON\n",
            "0        False          True         False\n",
            "1        False          True         False\n",
            "2        False          True         False\n",
            "3        False          True         False\n",
            "4        False          True         False\n"
          ]
        }
      ],
      "source": [
        "# Encoding kolom \"Dusun\" dengan menggunakan One Hot Encoding\n",
        "if 'Dusun' in df_processed.columns:\n",
        "    # Bersihkan spasi berlebih\n",
        "    df_processed['Dusun'] = df_processed['Dusun'].astype(str).str.strip()\n",
        "\n",
        "    # Cek nilai unik\n",
        "    print(\"📋 Nilai unik pada kolom 'Dusun' setelah dibersihkan:\")\n",
        "    print(df_processed['Dusun'].unique())\n",
        "\n",
        "    # Terapkan One-Hot Encoding\n",
        "    df_processed = pd.get_dummies(df_processed, columns=['Dusun'], prefix='Dusun')\n",
        "\n",
        "    print(\"\\n✅ One-Hot Encoding untuk kolom 'Dusun' berhasil dilakukan.\")\n",
        "    print(\"🔍 Kolom baru hasil encoding:\")\n",
        "    print([col for col in df_processed.columns if 'Dusun_' in col])\n",
        "\n",
        "    # Contoh hasil encoding\n",
        "    print(\"\\n🔍 Contoh data setelah encoding:\")\n",
        "    print(df_processed.filter(like='Dusun_').head())\n",
        "\n",
        "else:\n",
        "    print(\"⚠️ Kolom 'Dusun' tidak ditemukan di dataframe.\")"
      ]
    },
    {
      "cell_type": "code",
      "execution_count": 114,
      "metadata": {
        "colab": {
          "base_uri": "https://localhost:8080/"
        },
        "id": "TAnq_C46Ayp4",
        "outputId": "f2c38b6b-4597-4023-cfd2-faf252771156"
      },
      "outputs": [
        {
          "output_type": "stream",
          "name": "stdout",
          "text": [
            "📋 Nilai unik pada kolom 'Status BB/U':\n",
            "['Normal' 'Resiko BB lebih' 'Sangat kurang' 'Kurang']\n",
            "\n",
            "📊 Jumlah masing-masing kategori:\n",
            "Status BB/U\n",
            "Normal             1348\n",
            "Kurang              138\n",
            "Resiko BB lebih     100\n",
            "Sangat kurang        31\n",
            "Name: count, dtype: int64\n"
          ]
        }
      ],
      "source": [
        "# Pastikan kolom ada\n",
        "if 'Status BB/U' in df_processed.columns:\n",
        "    print(\"📋 Nilai unik pada kolom 'Status BB/U':\")\n",
        "    print(df_processed['Status BB/U'].unique())\n",
        "\n",
        "    print(\"\\n📊 Jumlah masing-masing kategori:\")\n",
        "    print(df_processed['Status BB/U'].value_counts())\n",
        "else:\n",
        "    print(\"⚠️ Kolom 'Status BB/U' tidak ditemukan di dataset.\")"
      ]
    },
    {
      "cell_type": "code",
      "execution_count": 115,
      "metadata": {
        "colab": {
          "base_uri": "https://localhost:8080/"
        },
        "id": "-iBnqfez7ZxZ",
        "outputId": "b2bff1a3-2de3-47c7-c668-72e1ca421d3f"
      },
      "outputs": [
        {
          "output_type": "stream",
          "name": "stdout",
          "text": [
            "✅ Encoding kolom 'Status BB/U' berhasil dilakukan dengan Ordinal Encoding.\n",
            "\n",
            "  Status BB/U  Status BB/U (Encoded)\n",
            "0      Normal                      2\n",
            "1      Normal                      2\n",
            "2      Normal                      2\n",
            "3      Normal                      2\n",
            "4      Normal                      2\n"
          ]
        }
      ],
      "source": [
        "# Encoding kolom 'Status BB/U' menggunakan Ordinal Encoding\n",
        "if 'Status BB/U' in df_processed.columns:\n",
        "    # 1️⃣ Bersihkan teks dari spasi dan variasi penulisan\n",
        "    df_processed['Status BB/U'] = df_processed['Status BB/U'].str.strip().str.title()\n",
        "\n",
        "    # 2️⃣ Normalisasi istilah yang tidak konsisten\n",
        "    df_processed['Status BB/U'] = df_processed['Status BB/U'].replace({\n",
        "        'Resiko Bb Lebih': 'Risiko Gizi Lebih',\n",
        "        'Risiko Bb Lebih': 'Risiko Gizi Lebih',\n",
        "        'Resiko Gizi Lbh': 'Risiko Gizi Lebih',\n",
        "    })\n",
        "\n",
        "    # 3️⃣ Mapping ke ordinal value (sesuai urutan status gizi)\n",
        "    mapping_status_bbu = {\n",
        "        'Sangat Kurang': 0,\n",
        "        'Kurang': 1,\n",
        "        'Normal': 2,\n",
        "        'Risiko Gizi Lebih': 3\n",
        "    }\n",
        "\n",
        "    # 4️⃣ Terapkan mapping\n",
        "    df_processed['Status BB/U (Encoded)'] = df_processed['Status BB/U'].map(mapping_status_bbu)\n",
        "\n",
        "    # 5️⃣ Tampilkan hasil\n",
        "    print(\"✅ Encoding kolom 'Status BB/U' berhasil dilakukan dengan Ordinal Encoding.\\n\")\n",
        "    print(df_processed[['Status BB/U', 'Status BB/U (Encoded)']].head())\n",
        "\n",
        "    # 6️⃣ Cek apakah ada nilai yang belum ter-encode\n",
        "    if df_processed['Status BB/U (Encoded)'].isna().any():\n",
        "        print(\"\\n⚠️ Ada nilai yang belum ter-encode, berikut nilainya:\")\n",
        "        print(df_processed.loc[df_processed['Status BB/U (Encoded)'].isna(), 'Status BB/U'].unique())\n",
        "\n",
        "else:\n",
        "    print(\"⚠️ Kolom 'Status BB/U' tidak ditemukan dalam dataset.\")"
      ]
    },
    {
      "cell_type": "code",
      "execution_count": 116,
      "metadata": {
        "colab": {
          "base_uri": "https://localhost:8080/"
        },
        "id": "R6s7C5YcK2YA",
        "outputId": "21faeebd-be91-42fd-d1a8-ba72e9aaaa48"
      },
      "outputs": [
        {
          "output_type": "stream",
          "name": "stdout",
          "text": [
            "📋 Nilai unik pada kolom 'Status TB/U':\n",
            "['Normal' 'Tinggi' 'Pendek' 'Sangat Pendek']\n",
            "\n",
            "📊 Jumlah masing-masing kategori:\n",
            "Status TB/U\n",
            "Normal           1304\n",
            "Pendek            192\n",
            "Sangat Pendek      61\n",
            "Tinggi             60\n",
            "Name: count, dtype: int64\n"
          ]
        }
      ],
      "source": [
        "# ============================================================\n",
        "# 🔹 1️⃣ Cek nilai unik dan jumlah kategori pada kolom 'Status TB/U'\n",
        "# ============================================================\n",
        "if 'Status TB/U' in df_processed.columns:\n",
        "    print(\"📋 Nilai unik pada kolom 'Status TB/U':\")\n",
        "    print(df_processed['Status TB/U'].unique())\n",
        "\n",
        "    print(\"\\n📊 Jumlah masing-masing kategori:\")\n",
        "    print(df_processed['Status TB/U'].value_counts())"
      ]
    },
    {
      "cell_type": "code",
      "execution_count": 117,
      "metadata": {
        "colab": {
          "base_uri": "https://localhost:8080/"
        },
        "id": "wi3bSAHXNSxa",
        "outputId": "58c0ae57-5170-4338-93ad-a9bf6d1d20e9"
      },
      "outputs": [
        {
          "output_type": "stream",
          "name": "stdout",
          "text": [
            "\n",
            "✅ Encoding kolom 'Status TB/U' berhasil dilakukan dengan Ordinal Encoding.\n",
            "  Status TB/U  Status TB/U (Encoded)\n",
            "0      Normal                      2\n",
            "1      Normal                      2\n",
            "2      Normal                      2\n",
            "3      Normal                      2\n",
            "4      Normal                      2\n"
          ]
        }
      ],
      "source": [
        "# ============================================================\n",
        "# 🔹 Encoding kolom 'Status TB/U' menggunakan Ordinal Encoding\n",
        "# ============================================================\n",
        "\n",
        "if 'Status TB/U' in df_processed.columns:\n",
        "    # 1️⃣ Bersihkan teks dari spasi dan variasi penulisan\n",
        "    df_processed['Status TB/U'] = df_processed['Status TB/U'].astype(str).str.strip().str.title()\n",
        "\n",
        "    # 2️⃣ Normalisasi istilah (jaga konsistensi)\n",
        "    df_processed['Status TB/U'] = df_processed['Status TB/U'].replace({\n",
        "        'Sangat Pendek': 'Sangat Pendek',\n",
        "        'Pendek': 'Pendek',\n",
        "        'Normal': 'Normal',\n",
        "        'Tinggi': 'Tinggi'\n",
        "    })\n",
        "\n",
        "    # 3️⃣ Mapping urutan ordinal status gizi\n",
        "    mapping_status_tbu = {\n",
        "        'Sangat Pendek': 0,\n",
        "        'Pendek': 1,\n",
        "        'Normal': 2,\n",
        "        'Tinggi': 3\n",
        "    }\n",
        "\n",
        "    # 4️⃣ Terapkan mapping\n",
        "    df_processed['Status TB/U (Encoded)'] = df_processed['Status TB/U'].map(mapping_status_tbu)\n",
        "\n",
        "    # 5️⃣ Tampilkan hasil\n",
        "    print(\"\\n✅ Encoding kolom 'Status TB/U' berhasil dilakukan dengan Ordinal Encoding.\")\n",
        "    print(df_processed[['Status TB/U', 'Status TB/U (Encoded)']].head())\n",
        "\n",
        "    # 6️⃣ Cek apakah ada nilai yang belum ter-encode\n",
        "    if df_processed['Status TB/U (Encoded)'].isna().any():\n",
        "        print(\"\\n⚠️ Ada nilai yang belum ter-encode, berikut nilainya:\")\n",
        "        print(df_processed.loc[df_processed['Status TB/U (Encoded)'].isna(), 'Status TB/U'].unique())\n",
        "\n",
        "else:\n",
        "    print(\"⚠️ Kolom 'Status TB/U' tidak ditemukan dalam dataset.\")\n"
      ]
    },
    {
      "cell_type": "code",
      "execution_count": 118,
      "metadata": {
        "colab": {
          "base_uri": "https://localhost:8080/"
        },
        "id": "BfblM5sqOYJS",
        "outputId": "89be5b24-0013-43d5-e92e-272482b15a50"
      },
      "outputs": [
        {
          "output_type": "stream",
          "name": "stdout",
          "text": [
            "🎯 Nama target kolom: Status BB/TB\n",
            "\n",
            "📋 Nilai unik pada kolom 'Status BB/TB':\n",
            "['Gizi Baik' 'Resiko Gizi Lbh' 'Obesitas' 'Gizi Lebih' 'Gizi Buruk'\n",
            " 'Gizi Kurang' 'Giizi Baik']\n",
            "\n",
            "📊 Jumlah masing-masing kategori:\n",
            "Status BB/TB\n",
            "Gizi Baik          1277\n",
            "Resiko Gizi Lbh     141\n",
            "Gizi Kurang          82\n",
            "Obesitas             60\n",
            "Gizi Lebih           38\n",
            "Gizi Buruk           18\n",
            "Giizi Baik            1\n",
            "Name: count, dtype: int64\n"
          ]
        }
      ],
      "source": [
        "# ✅ 1️⃣ Pastikan kolom 'Status BB/TB' ada\n",
        "if 'Status BB/TB' in df_processed.columns:\n",
        "    # Tampilkan nama kolom target\n",
        "    print(\"🎯 Nama target kolom:\", 'Status BB/TB')\n",
        "\n",
        "    # ✅ 2️⃣ Lihat nilai unik dan jumlah tiap kategori\n",
        "    print(\"\\n📋 Nilai unik pada kolom 'Status BB/TB':\")\n",
        "    print(df_processed['Status BB/TB'].unique())\n",
        "    print(\"\\n📊 Jumlah masing-masing kategori:\")\n",
        "    print(df_processed['Status BB/TB'].value_counts())"
      ]
    },
    {
      "cell_type": "code",
      "execution_count": 119,
      "metadata": {
        "colab": {
          "base_uri": "https://localhost:8080/"
        },
        "id": "1ZcyAnLrPIzx",
        "outputId": "e1a05626-eb58-4a1b-a302-fa2c21834c1e"
      },
      "outputs": [
        {
          "output_type": "stream",
          "name": "stdout",
          "text": [
            "\n",
            "✅ Encoding kolom 'Status BB/TB' berhasil dilakukan dengan Ordinal Encoding.\n",
            "\n",
            "        Status BB/TB  Status BB/TB (Encoded)\n",
            "0          Gizi Baik                       2\n",
            "1          Gizi Baik                       2\n",
            "2          Gizi Baik                       2\n",
            "3  Risiko Gizi Lebih                       3\n",
            "4           Obesitas                       5\n"
          ]
        }
      ],
      "source": [
        "# ✅ 1️⃣ Pastikan kolom 'Status BB/TB' ada\n",
        "if 'Status BB/TB' in df_processed.columns:\n",
        "    # ✅ 2️⃣ Bersihkan teks dari spasi & seragamkan huruf\n",
        "    df_processed['Status BB/TB'] = df_processed['Status BB/TB'].astype(str).str.strip().str.title()\n",
        "\n",
        "    # ✅ 3️⃣ Normalisasi penulisan kategori jika ada yang salah tulis\n",
        "    df_processed['Status BB/TB'] = df_processed['Status BB/TB'].replace({\n",
        "        'Giizi Baik': 'Gizi Baik',              # salah ketik → benar\n",
        "        'Resiko Gizi Lbh': 'Risiko Gizi Lebih', # singkatan → lengkap\n",
        "        'Resiko Gizi Lebih': 'Risiko Gizi Lebih',\n",
        "        'Gizi Buruk': 'Gizi Buruk',\n",
        "        'Gizi Kurang': 'Gizi Kurang',\n",
        "        'Gizi Baik': 'Gizi Baik',\n",
        "        'Risiko Gizi Lebih': 'Risiko Gizi Lebih',\n",
        "        'Gizi Lebih': 'Gizi Lebih',\n",
        "        'Obesitas': 'Obesitas'\n",
        "    })\n",
        "\n",
        "    # ✅ 4️⃣ Buat mapping Ordinal berdasarkan tingkat gizi (dari terendah → tertinggi)\n",
        "    mapping_status_bbtb = {\n",
        "        'Gizi Buruk': 0,\n",
        "        'Gizi Kurang': 1,\n",
        "        'Gizi Baik': 2,\n",
        "        'Risiko Gizi Lebih': 3,\n",
        "        'Gizi Lebih': 4,\n",
        "        'Obesitas': 5\n",
        "    }\n",
        "\n",
        "    # ✅ 5️⃣ Terapkan mapping\n",
        "    df_processed['Status BB/TB (Encoded)'] = df_processed['Status BB/TB'].map(mapping_status_bbtb)\n",
        "\n",
        "    # ✅ 6️⃣ Tampilkan hasil encoding\n",
        "    print(\"\\n✅ Encoding kolom 'Status BB/TB' berhasil dilakukan dengan Ordinal Encoding.\\n\")\n",
        "    print(df_processed[['Status BB/TB', 'Status BB/TB (Encoded)']].head())\n",
        "\n",
        "    # ✅ 7️⃣ Cek jika ada nilai yang belum ter-encode\n",
        "    if df_processed['Status BB/TB (Encoded)'].isna().any():\n",
        "        print(\"\\n⚠️ Ada nilai yang belum ter-encode:\")\n",
        "        print(df_processed.loc[df_processed['Status BB/TB (Encoded)'].isna(), 'Status BB/TB'].unique())\n",
        "\n",
        "else:\n",
        "    print(\"⚠️ Kolom 'Status BB/TB' tidak ditemukan dalam dataset.\")\n"
      ]
    },
    {
      "cell_type": "code",
      "execution_count": 120,
      "metadata": {
        "colab": {
          "base_uri": "https://localhost:8080/"
        },
        "id": "F7FHHXRJRsSl",
        "outputId": "a36013fc-37c0-4f06-9a6c-e2ef3943875d"
      },
      "outputs": [
        {
          "output_type": "stream",
          "name": "stdout",
          "text": [
            "📋 Daftar kolom di dataset kamu:\n",
            "['No', 'Nama Anak', 'Tanggal Lahir', 'Umur', 'Jenis Kelamin', 'Berat Badan Lahir (Kg)', 'Nama Ibu', 'Desa', 'Alamat', 'RT', 'RW', 'Tanggal Pengukuran', 'BB', 'TB', 'Z-Score BB/U', 'Z-Score TB/U', 'Z-Score BB/TB', 'Status BB/U', 'Status TB/U', 'Status BB/TB', 'Cara Ukur', 'Posyandu_Larasati 1', 'Posyandu_Larasati 2', 'Posyandu_Larasati 3', 'Posyandu_Larasati 4', 'Posyandu_Larasati 5', 'Dusun_MLESE', 'Dusun_NGARAN', 'Dusun_SRAGON', 'Status BB/U (Encoded)', 'Status TB/U (Encoded)', 'Status BB/TB (Encoded)']\n"
          ]
        }
      ],
      "source": [
        "print(\"📋 Daftar kolom di dataset kamu:\")\n",
        "print(df_processed.columns.tolist())\n"
      ]
    },
    {
      "cell_type": "code",
      "execution_count": 121,
      "metadata": {
        "colab": {
          "base_uri": "https://localhost:8080/"
        },
        "id": "aW5K_DT8wKmh",
        "outputId": "3360b78c-4872-4a01-9bb8-2cabd403fb14"
      },
      "outputs": [
        {
          "output_type": "stream",
          "name": "stdout",
          "text": [
            "=== Daftar Kolom pada df_processed ===\n",
            "1. No\n",
            "2. Nama Anak\n",
            "3. Tanggal Lahir\n",
            "4. Umur\n",
            "5. Jenis Kelamin\n",
            "6. Berat Badan Lahir (Kg)\n",
            "7. Nama Ibu\n",
            "8. Desa\n",
            "9. Alamat\n",
            "10. RT\n",
            "11. RW\n",
            "12. Tanggal Pengukuran\n",
            "13. BB\n",
            "14. TB\n",
            "15. Z-Score BB/U\n",
            "16. Z-Score TB/U\n",
            "17. Z-Score BB/TB\n",
            "18. Status BB/U\n",
            "19. Status TB/U\n",
            "20. Status BB/TB\n",
            "21. Cara Ukur\n",
            "22. Posyandu_Larasati 1\n",
            "23. Posyandu_Larasati 2\n",
            "24. Posyandu_Larasati 3\n",
            "25. Posyandu_Larasati 4\n",
            "26. Posyandu_Larasati 5\n",
            "27. Dusun_MLESE\n",
            "28. Dusun_NGARAN\n",
            "29. Dusun_SRAGON\n",
            "30. Status BB/U (Encoded)\n",
            "31. Status TB/U (Encoded)\n",
            "32. Status BB/TB (Encoded)\n",
            "\n",
            "Total kolom: 32\n"
          ]
        }
      ],
      "source": [
        "# =============================================================================\n",
        "# CEK SEMUA KOLOM DALAM DATAFRAME df_processed\n",
        "# =============================================================================\n",
        "\n",
        "print(\"=== Daftar Kolom pada df_processed ===\")\n",
        "for i, col in enumerate(df_processed.columns, start=1):\n",
        "    print(f\"{i}. {col}\")\n",
        "\n",
        "print(f\"\\nTotal kolom: {len(df_processed.columns)}\")\n"
      ]
    },
    {
      "cell_type": "code",
      "execution_count": 122,
      "metadata": {
        "colab": {
          "base_uri": "https://localhost:8080/"
        },
        "id": "oyvyhJUPbNIo",
        "outputId": "9f79e0ea-f103-47de-9b63-d1573ba7ee17"
      },
      "outputs": [
        {
          "output_type": "stream",
          "name": "stdout",
          "text": [
            "=== Nama Kolom dan Contoh Isinya ===\n",
            "No → 1\n",
            "Nama Anak → KANISA GENDHIS AMELIA\n",
            "Tanggal Lahir → 10-01-2019\n",
            "Umur → 20.0\n",
            "Jenis Kelamin → 0\n",
            "Berat Badan Lahir (Kg) → 2.8\n",
            "Nama Ibu → ATIKA WINDI HASTINI\n",
            "Desa → MLESE\n",
            "Alamat → NGARAN\n",
            "RT → 01\n",
            "RW → 01\n",
            "Tanggal Pengukuran → 23-09-2020\n",
            "BB → 10.0\n",
            "TB → 80.0\n",
            "Z-Score BB/U → 0.5\n",
            "Z-Score TB/U → -0.2\n",
            "Z-Score BB/TB → 0.8\n",
            "Status BB/U → Normal\n",
            "Status TB/U → Normal\n",
            "Status BB/TB → Gizi Baik\n",
            "Cara Ukur → 1\n",
            "Posyandu_Larasati 1 → 0.0\n",
            "Posyandu_Larasati 2 → 0.0\n",
            "Posyandu_Larasati 3 → 0.0\n",
            "Posyandu_Larasati 4 → 1.0\n",
            "Posyandu_Larasati 5 → 0.0\n",
            "Dusun_MLESE → False\n",
            "Dusun_NGARAN → True\n",
            "Dusun_SRAGON → False\n",
            "Status BB/U (Encoded) → 2\n",
            "Status TB/U (Encoded) → 2\n",
            "Status BB/TB (Encoded) → 2\n"
          ]
        }
      ],
      "source": [
        "# Cek nama kolom dan contoh isi satu baris\n",
        "print(\"=== Nama Kolom dan Contoh Isinya ===\")\n",
        "for col in df_processed.columns:\n",
        "    print(f\"{col} → {df_processed[col].iloc[0]}\")\n"
      ]
    },
    {
      "cell_type": "code",
      "execution_count": 123,
      "metadata": {
        "colab": {
          "base_uri": "https://localhost:8080/"
        },
        "id": "ib9wtec1RvRg",
        "outputId": "076bbf67-fe1d-46da-bbb5-4dc46d4d23f4"
      },
      "outputs": [
        {
          "output_type": "stream",
          "name": "stdout",
          "text": [
            "📋 Contoh hasil perhitungan frekuensi kunjungan per anak:\n",
            "                        Nama Anak  Frekuensi Kunjungan\n",
            "0           ABIAN NEVAN A RIYANTO                    6\n",
            "1              ABID AQILA ABRAHAM                    8\n",
            "2               ABIDZAR DEWANTARA                   11\n",
            "3        ABIDZAR GIBRANTARA RASKY                    1\n",
            "4  ABIZAR GIBRANTARA RASKY ALFAHR                    6\n"
          ]
        }
      ],
      "source": [
        "# 1️⃣ Hitung jumlah kunjungan per anak\n",
        "frekuensi_kunjungan = df_processed.groupby('Nama Anak').size().reset_index(name='Frekuensi Kunjungan')\n",
        "\n",
        "# 2️⃣ Tampilkan hasil awal\n",
        "print(\"📋 Contoh hasil perhitungan frekuensi kunjungan per anak:\")\n",
        "print(frekuensi_kunjungan.head())"
      ]
    },
    {
      "cell_type": "code",
      "execution_count": 124,
      "metadata": {
        "colab": {
          "base_uri": "https://localhost:8080/"
        },
        "id": "G75NqUhnRqdE",
        "outputId": "c457d23a-7655-4c69-869b-1b55824ea365"
      },
      "outputs": [
        {
          "output_type": "stream",
          "name": "stdout",
          "text": [
            "\n",
            "📊 Statistik deskriptif frekuensi kunjungan:\n",
            "count    336.000000\n",
            "mean       4.812500\n",
            "std        2.653743\n",
            "min        1.000000\n",
            "25%        3.000000\n",
            "50%        4.000000\n",
            "75%        6.000000\n",
            "max       12.000000\n",
            "Name: Frekuensi Kunjungan, dtype: float64\n"
          ]
        }
      ],
      "source": [
        "print(\"\\n📊 Statistik deskriptif frekuensi kunjungan:\")\n",
        "print(frekuensi_kunjungan['Frekuensi Kunjungan'].describe())"
      ]
    },
    {
      "cell_type": "code",
      "execution_count": 125,
      "metadata": {
        "colab": {
          "base_uri": "https://localhost:8080/"
        },
        "id": "o-M5LcZBKtWK",
        "outputId": "00683a97-24ce-403a-dc3f-00fb1ce198d8"
      },
      "outputs": [
        {
          "output_type": "stream",
          "name": "stdout",
          "text": [
            "\n",
            "👧 Anak paling sering datang ke posyandu:\n",
            "                 Nama Anak  Frekuensi Kunjungan\n",
            "262  NIZAM AHIDQI ARSALAAN                   12\n",
            "318     UWAIS ZAIDAN FALAH                   11\n",
            "284      RASYA ANADYA AZKA                   11\n",
            "281    RAGIL MERIANA PUTRI                   11\n",
            "149       GEMILANG ADITAMA                   11\n",
            "\n",
            "👶 Anak paling jarang datang ke posyandu:\n",
            "                 Nama Anak  Frekuensi Kunjungan\n",
            "19     AISYAH MARWAH INARA                    1\n",
            "28     ALIFA PUTRI ARINIKA                    1\n",
            "30   ALIKA PUTRI KINANTHI                     1\n",
            "308          SHALIH AQLANI                    1\n",
            "319     VANIA AQILA PUTRI                     1\n"
          ]
        }
      ],
      "source": [
        "# Anak paling sering & paling jarang datang\n",
        "print(\"\\n👧 Anak paling sering datang ke posyandu:\")\n",
        "print(frekuensi_kunjungan.sort_values('Frekuensi Kunjungan', ascending=False).head(5))\n",
        "\n",
        "print(\"\\n👶 Anak paling jarang datang ke posyandu:\")\n",
        "print(frekuensi_kunjungan.sort_values('Frekuensi Kunjungan', ascending=True).head(5))"
      ]
    },
    {
      "cell_type": "markdown",
      "metadata": {
        "id": "hyttKNQxPOye"
      },
      "source": [
        "# **5. FEATURE ENGINEERING**"
      ]
    },
    {
      "cell_type": "code",
      "execution_count": 126,
      "metadata": {
        "colab": {
          "base_uri": "https://localhost:8080/"
        },
        "id": "hQwRd6lhWKRZ",
        "outputId": "d794873b-4042-40b0-f047-12c45bef6741"
      },
      "outputs": [
        {
          "output_type": "stream",
          "name": "stdout",
          "text": [
            "   No               Nama Anak Tanggal Lahir  Umur  Jenis Kelamin  \\\n",
            "0   1   KANISA GENDHIS AMELIA    10-01-2019  20.0              0   \n",
            "1   2  GHANIA FRADELLA LEENA     30-06-2019  14.0              0   \n",
            "2   3  RAYYAN ALFARIZI PUTRA     19-07-2018  26.0              1   \n",
            "3   4          FAUZAN ADHIMA     24-11-2017  33.0              1   \n",
            "4   5     REXZA ACELIN ATHA A    19-06-2017  39.0              1   \n",
            "5   6   NAJWA ALMEERA MADHURI    23-02-2017  43.0              1   \n",
            "6   7           AZKA NANDANA     04-09-2016  48.0              1   \n",
            "7   8   FIONA YASMINA SAUQIYA    01-05-2016  52.0              0   \n",
            "8   9    AZKA FATHIR YULIANTO    04-03-2016  54.0              1   \n",
            "9  10       ALFAREZEL NENDR P    13-08-2017  37.0              0   \n",
            "\n",
            "  Berat Badan Lahir (Kg)             Nama Ibu   Desa   Alamat  RT  RW  \\\n",
            "0                    2.8  ATIKA WINDI HASTINI  MLESE   NGARAN  01  01   \n",
            "1                      3  RENANI PUJI ASTUTI   MLESE   NGARAN  01  01   \n",
            "2                    2.7        ANA JULIANTI   MLESE   NGARAN  01  01   \n",
            "3                    2.7        ARINA FAUZANI  MLESE   NGARAN  01  01   \n",
            "4                    3.1     NOVIANA SURYANI   MLESE  NGARAN   01  02   \n",
            "5                    2.5          ENI SUSANTI  MLESE  NGARAN   01  02   \n",
            "6                    2.3         DEVI ISTANTI  MLESE  NGARAN   02  01   \n",
            "7                      3       MERLIANA ANDRA  MLESE  NGARAN   02  01   \n",
            "8                      3          INTAN AYU M  MLESE  NGARAN   02  01   \n",
            "9                      3         RINA LISTANA  MLESE  NGARAN   02  01   \n",
            "\n",
            "  Tanggal Pengukuran    BB     TB  Z-Score BB/U  Z-Score TB/U  Z-Score BB/TB  \\\n",
            "0         23-09-2020  10.0   80.0           0.5          -0.2            0.8   \n",
            "1         23-09-2020   7.8   78.0          -0.8           0.5           -0.6   \n",
            "2         23-09-2020   9.5   80.0          -1.2          -1.0           -0.5   \n",
            "3         23-09-2020  13.7   86.0           1.5           0.8            1.8   \n",
            "4         23-09-2020  15.0   93.0           1.8           1.2            2.2   \n",
            "5         23-09-2020  12.3   90.0           0.3           0.5            0.6   \n",
            "6         23-09-2020  14.2  100.0           0.2           0.1            0.3   \n",
            "7         23-09-2020  13.4   96.0           0.5           0.3            0.7   \n",
            "8         23-09-2020  14.5  102.0           0.2           0.3            0.5   \n",
            "9         23-09-2020  12.3   84.0           1.0          -0.5            1.5   \n",
            "\n",
            "  Status BB/U Status TB/U       Status BB/TB  Cara Ukur  Posyandu_Larasati 1  \\\n",
            "0      Normal      Normal          Gizi Baik          1                  0.0   \n",
            "1      Normal      Normal          Gizi Baik          1                  0.0   \n",
            "2      Normal      Normal          Gizi Baik          1                  0.0   \n",
            "3      Normal      Normal  Risiko Gizi Lebih          1                  0.0   \n",
            "4      Normal      Normal           Obesitas          1                  0.0   \n",
            "5      Normal      Normal          Gizi Baik          1                  0.0   \n",
            "6      Normal      Normal          Gizi Baik          1                  0.0   \n",
            "7      Normal      Normal          Gizi Baik          1                  0.0   \n",
            "8      Normal      Normal          Gizi Baik          1                  0.0   \n",
            "9      Normal      Normal  Risiko Gizi Lebih          1                  0.0   \n",
            "\n",
            "   Posyandu_Larasati 2  Posyandu_Larasati 3  Posyandu_Larasati 4  \\\n",
            "0                  0.0                  0.0                  1.0   \n",
            "1                  0.0                  0.0                  1.0   \n",
            "2                  0.0                  0.0                  1.0   \n",
            "3                  0.0                  0.0                  1.0   \n",
            "4                  0.0                  1.0                  0.0   \n",
            "5                  0.0                  1.0                  0.0   \n",
            "6                  0.0                  0.0                  1.0   \n",
            "7                  0.0                  0.0                  1.0   \n",
            "8                  0.0                  0.0                  1.0   \n",
            "9                  0.0                  0.0                  1.0   \n",
            "\n",
            "   Posyandu_Larasati 5  Dusun_MLESE  Dusun_NGARAN  Dusun_SRAGON  \\\n",
            "0                  0.0        False          True         False   \n",
            "1                  0.0        False          True         False   \n",
            "2                  0.0        False          True         False   \n",
            "3                  0.0        False          True         False   \n",
            "4                  0.0        False          True         False   \n",
            "5                  0.0        False          True         False   \n",
            "6                  0.0        False          True         False   \n",
            "7                  0.0        False          True         False   \n",
            "8                  0.0        False          True         False   \n",
            "9                  0.0        False          True         False   \n",
            "\n",
            "   Status BB/U (Encoded)  Status TB/U (Encoded)  Status BB/TB (Encoded)  \n",
            "0                      2                      2                       2  \n",
            "1                      2                      2                       2  \n",
            "2                      2                      2                       2  \n",
            "3                      2                      2                       3  \n",
            "4                      2                      2                       5  \n",
            "5                      2                      2                       2  \n",
            "6                      2                      2                       2  \n",
            "7                      2                      2                       2  \n",
            "8                      2                      2                       2  \n",
            "9                      2                      2                       3  \n"
          ]
        }
      ],
      "source": [
        "# Menampilkan semua kolom pada DataFrame\n",
        "pd.set_option('display.max_columns', None)\n",
        "\n",
        "# Tampilkan 10 baris pertama (bisa diubah jumlahnya)\n",
        "print(df_processed.head(10))\n"
      ]
    },
    {
      "cell_type": "code",
      "execution_count": 127,
      "metadata": {
        "id": "q2hyKNomd89o"
      },
      "outputs": [],
      "source": [
        "# Tentukan kolom target\n",
        "target_col = 'Status BB/TB (Encoded)'\n",
        "\n",
        "# Pilih kolom numerik utama\n",
        "num_cols = ['Umur', 'BB', 'TB', 'Z-Score BB/U', 'Z-Score TB/U', 'Z-Score BB/TB']\n",
        "\n",
        "# Tambahkan fitur hasil encoding dan one-hot encoding\n",
        "encoded_features = [\n",
        "    'Jenis Kelamin',\n",
        "    'Status BB/U (Encoded)',\n",
        "    'Status TB/U (Encoded)',\n",
        "    'Dusun_MLESE',\n",
        "    'Dusun_NGARAN',\n",
        "    'Dusun_SRAGON',\n",
        "    'Posyandu_Larasati 1',\n",
        "    'Posyandu_Larasati 2',\n",
        "    'Posyandu_Larasati 3',\n",
        "    'Posyandu_Larasati 4',\n",
        "    'Posyandu_Larasati 5'\n",
        "]\n",
        "\n",
        "# Gabungkan semua kandidat fitur\n",
        "feature_candidates = num_cols + encoded_features"
      ]
    },
    {
      "cell_type": "code",
      "execution_count": 128,
      "metadata": {
        "colab": {
          "base_uri": "https://localhost:8080/"
        },
        "id": "F8KT_Xm2esb4",
        "outputId": "3bd95a1c-2d7f-436d-c7b4-32e2801b6891"
      },
      "outputs": [
        {
          "output_type": "stream",
          "name": "stdout",
          "text": [
            "=== Korelasi Fitur terhadap Target (Status BB/TB) ===\n",
            "Status BB/TB (Encoded)    1.000000\n",
            "Z-Score BB/TB             0.699678\n",
            "Z-Score BB/U              0.611894\n",
            "Status BB/U (Encoded)     0.543711\n",
            "Status TB/U (Encoded)     0.137268\n",
            "Z-Score TB/U              0.128838\n",
            "BB                        0.081219\n",
            "Posyandu_Larasati 4       0.065267\n",
            "Posyandu_Larasati 2       0.058698\n",
            "Dusun_MLESE               0.058698\n",
            "Posyandu_Larasati 1       0.005533\n",
            "Dusun_NGARAN             -0.005390\n",
            "Jenis Kelamin            -0.017071\n",
            "Dusun_SRAGON             -0.048130\n",
            "Posyandu_Larasati 3      -0.051551\n",
            "Posyandu_Larasati 5      -0.065821\n",
            "Umur                     -0.078965\n",
            "TB                       -0.092403\n",
            "Name: Status BB/TB (Encoded), dtype: float64\n"
          ]
        }
      ],
      "source": [
        "# Hitung korelasi terhadap target\n",
        "corr_matrix = df_processed[feature_candidates + [target_col]].corr()[target_col].sort_values(ascending=False)\n",
        "\n",
        "print(\"=== Korelasi Fitur terhadap Target (Status BB/TB) ===\")\n",
        "print(corr_matrix)"
      ]
    },
    {
      "cell_type": "code",
      "execution_count": 129,
      "metadata": {
        "colab": {
          "base_uri": "https://localhost:8080/",
          "height": 563
        },
        "id": "XD2PTd_leyc3",
        "outputId": "5ca630b7-c0d2-40c0-e48e-f1bb0df12b31"
      },
      "outputs": [
        {
          "output_type": "display_data",
          "data": {
            "text/plain": [
              "<Figure size 1000x600 with 1 Axes>"
            ],
            "image/png": "[encoded data removed]"
          },
          "metadata": {}
        }
      ],
      "source": [
        "# Visualisasi korelasi\n",
        "plt.figure(figsize=(10, 6))\n",
        "sns.barplot(x=corr_matrix.values, y=corr_matrix.index, palette='viridis')\n",
        "plt.title(\"Korelasi Fitur terhadap Target (Status BB/TB)\", fontsize=14)\n",
        "plt.xlabel(\"Nilai Korelasi\")\n",
        "plt.ylabel(\"Fitur\")\n",
        "plt.show()"
      ]
    },
    {
      "cell_type": "code",
      "execution_count": 130,
      "metadata": {
        "colab": {
          "base_uri": "https://localhost:8080/"
        },
        "id": "U2tK3ipBe-m8",
        "outputId": "74395642-258e-45ea-f7c1-2f638e6fbb48"
      },
      "outputs": [
        {
          "output_type": "stream",
          "name": "stdout",
          "text": [
            "\n",
            "✅ Fitur yang dipilih berdasarkan korelasi:\n",
            "['Z-Score BB/TB', 'Z-Score BB/U', 'Status BB/U (Encoded)', 'Status TB/U (Encoded)', 'Z-Score TB/U']\n"
          ]
        }
      ],
      "source": [
        "# Pilih fitur dengan korelasi cukup signifikan\n",
        "selected_features = corr_matrix[abs(corr_matrix) > 0.1].index.tolist()\n",
        "selected_features.remove(target_col)\n",
        "\n",
        "print(\"\\n✅ Fitur yang dipilih berdasarkan korelasi:\")\n",
        "print(selected_features)"
      ]
    },
    {
      "cell_type": "markdown",
      "metadata": {
        "id": "mJuyTWdfhOEV"
      },
      "source": [
        "#**6. Feature Selection**"
      ]
    },
    {
      "cell_type": "code",
      "execution_count": 131,
      "metadata": {
        "id": "8u6Ryt5-hcdI"
      },
      "outputs": [],
      "source": [
        "# Tentukan kolom target\n",
        "target_col = 'Status BB/TB (Encoded)'\n",
        "\n",
        "# Fitur yang dipilih berdasarkan korelasi (dan relevan untuk model)\n",
        "selected_features = [\n",
        "    'Z-Score BB/TB',\n",
        "    'Z-Score BB/U',\n",
        "    'Status BB/U (Encoded)',\n",
        "    'Status TB/U (Encoded)',\n",
        "    'Z-Score TB/U'\n",
        "]\n",
        "\n",
        "# Pisahkan fitur (X) dan target (y)\n",
        "X = df_processed[selected_features]\n",
        "y = df_processed[target_col]"
      ]
    },
    {
      "cell_type": "code",
      "execution_count": 132,
      "metadata": {
        "colab": {
          "base_uri": "https://localhost:8080/"
        },
        "id": "MxYBAKbWinJX",
        "outputId": "76b56a7e-c920-4bff-99f8-f40b0624b09c"
      },
      "outputs": [
        {
          "output_type": "stream",
          "name": "stdout",
          "text": [
            "✅ Dimensi data sebelum split:\n",
            "Fitur (X): (1617, 5)\n",
            "Target (y): (1617,)\n"
          ]
        }
      ],
      "source": [
        "print(\"✅ Dimensi data sebelum split:\")\n",
        "print(\"Fitur (X):\", X.shape)\n",
        "print(\"Target (y):\", y.shape)"
      ]
    },
    {
      "cell_type": "markdown",
      "metadata": {
        "id": "UbEplAJgjZax"
      },
      "source": [
        "# **7. PEMBAGIAN DATA TRAIN DAN TEST**"
      ]
    },
    {
      "cell_type": "code",
      "execution_count": 133,
      "metadata": {
        "id": "Ev4iRommjdo6"
      },
      "outputs": [],
      "source": [
        "# Gunakan fitur dan target dari hasil feature selection sebelumnya\n",
        "X = df_processed[selected_features]   # Fitur input\n",
        "y = df_processed[target_col]          # Target output (Status BB/TB (Encoded))\n",
        "\n",
        "# Bagi data menjadi 80% data latih dan 20% data uji\n",
        "X_train, X_test, y_train, y_test = train_test_split(\n",
        "    X, y,\n",
        "    test_size=0.2,        # 20% untuk data uji\n",
        "    random_state=42,      # Supaya hasil pembagian selalu sama setiap dijalankan\n",
        "    stratify=y            # Menjaga proporsi kelas target tetap seimbang\n",
        ")"
      ]
    },
    {
      "cell_type": "code",
      "execution_count": 134,
      "metadata": {
        "colab": {
          "base_uri": "https://localhost:8080/"
        },
        "id": "Yx7Fd7RSjoK3",
        "outputId": "64f43f22-92af-4092-ac29-96d5b009909a"
      },
      "outputs": [
        {
          "output_type": "stream",
          "name": "stdout",
          "text": [
            "✅ Data berhasil dibagi menjadi train dan test\n",
            "Jumlah data latih (X_train): (1293, 5)\n",
            "Jumlah data uji (X_test): (324, 5)\n",
            "Jumlah target latih (y_train): (1293,)\n",
            "Jumlah target uji (y_test): (324,)\n"
          ]
        }
      ],
      "source": [
        "# Tampilkan hasil pembagian data\n",
        "print(\"✅ Data berhasil dibagi menjadi train dan test\")\n",
        "print(\"Jumlah data latih (X_train):\", X_train.shape)\n",
        "print(\"Jumlah data uji (X_test):\", X_test.shape)\n",
        "print(\"Jumlah target latih (y_train):\", y_train.shape)\n",
        "print(\"Jumlah target uji (y_test):\", y_test.shape)"
      ]
    },
    {
      "cell_type": "markdown",
      "metadata": {
        "id": "VfUZ6yImkOre"
      },
      "source": [
        "# **8. MENGATASI KETIDAKSEIMBANGAN DATA DENGAN ADASYN**"
      ]
    },
    {
      "cell_type": "code",
      "execution_count": 135,
      "metadata": {
        "colab": {
          "base_uri": "https://localhost:8080/"
        },
        "id": "JENzSGqkkVtU",
        "outputId": "f9af4963-c1e1-4e12-cab4-fdd2d6307e31"
      },
      "outputs": [
        {
          "output_type": "stream",
          "name": "stdout",
          "text": [
            "Distribusi awal data latih: Counter({2: 1022, 3: 113, 1: 66, 5: 48, 4: 30, 0: 14})\n"
          ]
        }
      ],
      "source": [
        "# Lihat distribusi awal kelas pada data latih\n",
        "print(\"Distribusi awal data latih:\", Counter(y_train))"
      ]
    },
    {
      "cell_type": "code",
      "execution_count": 136,
      "metadata": {
        "id": "RTiBFyX8kxPx"
      },
      "outputs": [],
      "source": [
        "# Inisialisasi ADASYN\n",
        "adasyn = ADASYN(random_state=42)\n",
        "\n",
        "# Terapkan oversampling hanya pada data latih\n",
        "X_train_res, y_train_res = adasyn.fit_resample(X_train, y_train)"
      ]
    },
    {
      "cell_type": "code",
      "execution_count": 137,
      "metadata": {
        "colab": {
          "base_uri": "https://localhost:8080/"
        },
        "id": "2_lQM_2mk0Ry",
        "outputId": "7d69ebda-2568-45a9-8f7d-f6971859b821"
      },
      "outputs": [
        {
          "output_type": "stream",
          "name": "stdout",
          "text": [
            "Distribusi setelah ADASYN: Counter({3: 1027, 2: 1022, 0: 1022, 1: 1020, 4: 1020, 5: 1014})\n",
            "Bentuk data latih sebelum ADASYN: (1293, 5)\n",
            "Bentuk data latih setelah ADASYN: (6125, 5)\n"
          ]
        }
      ],
      "source": [
        "# Distribusi setelah oversampling\n",
        "print(\"Distribusi setelah ADASYN:\", Counter(y_train_res))\n",
        "\n",
        "# Lihat bentuk data baru\n",
        "print(\"Bentuk data latih sebelum ADASYN:\", X_train.shape)\n",
        "print(\"Bentuk data latih setelah ADASYN:\", X_train_res.shape)"
      ]
    },
    {
      "cell_type": "markdown",
      "metadata": {
        "id": "p3DdyEQhlU6g"
      },
      "source": [
        "#**9. PELATIHAN MODEL RANDOM FOREST**"
      ]
    },
    {
      "cell_type": "markdown",
      "metadata": {
        "id": "QjbcO6qPvkU1"
      },
      "source": [
        "- PELATIHAN MODEL MENGGUNAKAN ADASYN"
      ]
    },
    {
      "cell_type": "code",
      "execution_count": 138,
      "metadata": {
        "id": "kS97_3oAlbef"
      },
      "outputs": [],
      "source": [
        "# Inisialisasi model Random Forest\n",
        "rf_model = RandomForestClassifier(\n",
        "    n_estimators=200,        # jumlah pohon\n",
        "    max_depth=None,          # biarkan algoritma menentukan otomatis\n",
        "    random_state=42,\n",
        "    class_weight=None        # karena sudah di-balance oleh ADASYN\n",
        ")\n",
        "\n",
        "# Latih model menggunakan data hasil ADASYN\n",
        "rf_model.fit(X_train_res, y_train_res)\n",
        "\n",
        "# Prediksi pada data uji\n",
        "y_pred = rf_model.predict(X_test)"
      ]
    },
    {
      "cell_type": "code",
      "execution_count": 139,
      "metadata": {
        "colab": {
          "base_uri": "https://localhost:8080/"
        },
        "id": "93eRAUd9lhM_",
        "outputId": "7698c97d-4250-4c44-d893-4c29f7e30b68"
      },
      "outputs": [
        {
          "output_type": "stream",
          "name": "stdout",
          "text": [
            "=== HASIL EVALUASI MODEL RANDOM FOREST ===\n",
            "Akurasi: 81.79 %\n",
            "\n",
            "Laporan Klasifikasi:\n",
            "              precision    recall  f1-score   support\n",
            "\n",
            "           0       0.33      0.75      0.46         4\n",
            "           1       0.41      0.69      0.51        16\n",
            "           2       0.96      0.84      0.90       256\n",
            "           3       0.57      0.71      0.63        28\n",
            "           4       0.36      0.50      0.42         8\n",
            "           5       0.69      0.92      0.79        12\n",
            "\n",
            "    accuracy                           0.82       324\n",
            "   macro avg       0.55      0.74      0.62       324\n",
            "weighted avg       0.86      0.82      0.83       324\n",
            "\n"
          ]
        }
      ],
      "source": [
        "# Evaluasi performa model\n",
        "print(\"=== HASIL EVALUASI MODEL RANDOM FOREST ===\")\n",
        "print(\"Akurasi:\", round(accuracy_score(y_test, y_pred) * 100, 2), \"%\")\n",
        "print(\"\\nLaporan Klasifikasi:\")\n",
        "print(classification_report(y_test, y_pred))"
      ]
    },
    {
      "cell_type": "code",
      "execution_count": 140,
      "metadata": {
        "colab": {
          "base_uri": "https://localhost:8080/",
          "height": 543
        },
        "id": "te0WX1gMln6C",
        "outputId": "3e2692e7-88fb-4891-c9ea-59b6ffef37fc"
      },
      "outputs": [
        {
          "output_type": "display_data",
          "data": {
            "text/plain": [
              "<Figure size 800x600 with 0 Axes>"
            ]
          },
          "metadata": {}
        },
        {
          "output_type": "display_data",
          "data": {
            "text/plain": [
              "<Figure size 800x550 with 1 Axes>"
            ],
            "image/png": "[encoded data removed]"
          },
          "metadata": {}
        }
      ],
      "source": [
        "# Confusion matrix\n",
        "plt.figure(figsize=(8,6))\n",
        "ConfusionMatrixDisplay(confusion_matrix(y_test, y_pred)).plot(cmap='Blues', colorbar=False)\n",
        "plt.title(\"Confusion Matrix - Random Forest\", fontsize=14)\n",
        "plt.show()"
      ]
    },
    {
      "cell_type": "markdown",
      "metadata": {
        "id": "oPAT0ksAvvoa"
      },
      "source": [
        "- PELATIHAN MODEL MENGGUNAKAN GridSearchCV"
      ]
    },
    {
      "cell_type": "code",
      "execution_count": 141,
      "metadata": {
        "colab": {
          "base_uri": "https://localhost:8080/",
          "height": 184
        },
        "id": "8NRT5bCWnU70",
        "outputId": "6cb57345-6717-4f3b-c55a-1dd863893d2a"
      },
      "outputs": [
        {
          "output_type": "stream",
          "name": "stdout",
          "text": [
            "Fitting 3 folds for each of 81 candidates, totalling 243 fits\n"
          ]
        },
        {
          "output_type": "execute_result",
          "data": {
            "text/plain": [
              "GridSearchCV(cv=3, estimator=RandomForestClassifier(random_state=42), n_jobs=-1,\n",
              "             param_grid={'max_depth': [None, 10, 20],\n",
              "                         'min_samples_leaf': [1, 2, 4],\n",
              "                         'min_samples_split': [2, 5, 10],\n",
              "                         'n_estimators': [100, 200, 300]},\n",
              "             scoring='f1_macro', verbose=2)"
            ],
            "text/html": [
              "<style>#sk-container-id-2 {\n",
              "  /* Definition of color scheme common for light and dark mode */\n",
              "  --sklearn-color-text: #000;\n",
              "  --sklearn-color-text-muted: #666;\n",
              "  --sklearn-color-line: gray;\n",
              "  /* Definition of color scheme for unfitted estimators */\n",
              "  --sklearn-color-unfitted-level-0: #fff5e6;\n",
              "  --sklearn-color-unfitted-level-1: #f6e4d2;\n",
              "  --sklearn-color-unfitted-level-2: #ffe0b3;\n",
              "  --sklearn-color-unfitted-level-3: chocolate;\n",
              "  /* Definition of color scheme for fitted estimators */\n",
              "  --sklearn-color-fitted-level-0: #f0f8ff;\n",
              "  --sklearn-color-fitted-level-1: #d4ebff;\n",
              "  --sklearn-color-fitted-level-2: #b3dbfd;\n",
              "  --sklearn-color-fitted-level-3: cornflowerblue;\n",
              "\n",
              "  /* Specific color for light theme */\n",
              "  --sklearn-color-text-on-default-background: var(--sg-text-color, var(--theme-code-foreground, var(--jp-content-font-color1, black)));\n",
              "  --sklearn-color-background: var(--sg-background-color, var(--theme-background, var(--jp-layout-color0, white)));\n",
              "  --sklearn-color-border-box: var(--sg-text-color, var(--theme-code-foreground, var(--jp-content-font-color1, black)));\n",
              "  --sklearn-color-icon: #696969;\n",
              "\n",
              "  @media (prefers-color-scheme: dark) {\n",
              "    /* Redefinition of color scheme for dark theme */\n",
              "    --sklearn-color-text-on-default-background: var(--sg-text-color, var(--theme-code-foreground, var(--jp-content-font-color1, white)));\n",
              "    --sklearn-color-background: var(--sg-background-color, var(--theme-background, var(--jp-layout-color0, #111)));\n",
              "    --sklearn-color-border-box: var(--sg-text-color, var(--theme-code-foreground, var(--jp-content-font-color1, white)));\n",
              "    --sklearn-color-icon: #878787;\n",
              "  }\n",
              "}\n",
              "\n",
              "#sk-container-id-2 {\n",
              "  color: var(--sklearn-color-text);\n",
              "}\n",
              "\n",
              "#sk-container-id-2 pre {\n",
              "  padding: 0;\n",
              "}\n",
              "\n",
              "#sk-container-id-2 input.sk-hidden--visually {\n",
              "  border: 0;\n",
              "  clip: rect(1px 1px 1px 1px);\n",
              "  clip: rect(1px, 1px, 1px, 1px);\n",
              "  height: 1px;\n",
              "  margin: -1px;\n",
              "  overflow: hidden;\n",
              "  padding: 0;\n",
              "  position: absolute;\n",
              "  width: 1px;\n",
              "}\n",
              "\n",
              "#sk-container-id-2 div.sk-dashed-wrapped {\n",
              "  border: 1px dashed var(--sklearn-color-line);\n",
              "  margin: 0 0.4em 0.5em 0.4em;\n",
              "  box-sizing: border-box;\n",
              "  padding-bottom: 0.4em;\n",
              "  background-color: var(--sklearn-color-background);\n",
              "}\n",
              "\n",
              "#sk-container-id-2 div.sk-container {\n",
              "  /* jupyter's `normalize.less` sets `[hidden] { display: none; }`\n",
              "     but bootstrap.min.css set `[hidden] { display: none !important; }`\n",
              "     so we also need the `!important` here to be able to override the\n",
              "     default hidden behavior on the sphinx rendered scikit-learn.org.\n",
              "     See: https://github.com/scikit-learn/scikit-learn/issues/21755 */\n",
              "  display: inline-block !important;\n",
              "  position: relative;\n",
              "}\n",
              "\n",
              "#sk-container-id-2 div.sk-text-repr-fallback {\n",
              "  display: none;\n",
              "}\n",
              "\n",
              "div.sk-parallel-item,\n",
              "div.sk-serial,\n",
              "div.sk-item {\n",
              "  /* draw centered vertical line to link estimators */\n",
              "  background-image: linear-gradient(var(--sklearn-color-text-on-default-background), var(--sklearn-color-text-on-default-background));\n",
              "  background-size: 2px 100%;\n",
              "  background-repeat: no-repeat;\n",
              "  background-position: center center;\n",
              "}\n",
              "\n",
              "/* Parallel-specific style estimator block */\n",
              "\n",
              "#sk-container-id-2 div.sk-parallel-item::after {\n",
              "  content: \"\";\n",
              "  width: 100%;\n",
              "  border-bottom: 2px solid var(--sklearn-color-text-on-default-background);\n",
              "  flex-grow: 1;\n",
              "}\n",
              "\n",
              "#sk-container-id-2 div.sk-parallel {\n",
              "  display: flex;\n",
              "  align-items: stretch;\n",
              "  justify-content: center;\n",
              "  background-color: var(--sklearn-color-background);\n",
              "  position: relative;\n",
              "}\n",
              "\n",
              "#sk-container-id-2 div.sk-parallel-item {\n",
              "  display: flex;\n",
              "  flex-direction: column;\n",
              "}\n",
              "\n",
              "#sk-container-id-2 div.sk-parallel-item:first-child::after {\n",
              "  align-self: flex-end;\n",
              "  width: 50%;\n",
              "}\n",
              "\n",
              "#sk-container-id-2 div.sk-parallel-item:last-child::after {\n",
              "  align-self: flex-start;\n",
              "  width: 50%;\n",
              "}\n",
              "\n",
              "#sk-container-id-2 div.sk-parallel-item:only-child::after {\n",
              "  width: 0;\n",
              "}\n",
              "\n",
              "/* Serial-specific style estimator block */\n",
              "\n",
              "#sk-container-id-2 div.sk-serial {\n",
              "  display: flex;\n",
              "  flex-direction: column;\n",
              "  align-items: center;\n",
              "  background-color: var(--sklearn-color-background);\n",
              "  padding-right: 1em;\n",
              "  padding-left: 1em;\n",
              "}\n",
              "\n",
              "\n",
              "/* Toggleable style: style used for estimator/Pipeline/ColumnTransformer box that is\n",
              "clickable and can be expanded/collapsed.\n",
              "- Pipeline and ColumnTransformer use this feature and define the default style\n",
              "- Estimators will overwrite some part of the style using the `sk-estimator` class\n",
              "*/\n",
              "\n",
              "/* Pipeline and ColumnTransformer style (default) */\n",
              "\n",
              "#sk-container-id-2 div.sk-toggleable {\n",
              "  /* Default theme specific background. It is overwritten whether we have a\n",
              "  specific estimator or a Pipeline/ColumnTransformer */\n",
              "  background-color: var(--sklearn-color-background);\n",
              "}\n",
              "\n",
              "/* Toggleable label */\n",
              "#sk-container-id-2 label.sk-toggleable__label {\n",
              "  cursor: pointer;\n",
              "  display: flex;\n",
              "  width: 100%;\n",
              "  margin-bottom: 0;\n",
              "  padding: 0.5em;\n",
              "  box-sizing: border-box;\n",
              "  text-align: center;\n",
              "  align-items: start;\n",
              "  justify-content: space-between;\n",
              "  gap: 0.5em;\n",
              "}\n",
              "\n",
              "#sk-container-id-2 label.sk-toggleable__label .caption {\n",
              "  font-size: 0.6rem;\n",
              "  font-weight: lighter;\n",
              "  color: var(--sklearn-color-text-muted);\n",
              "}\n",
              "\n",
              "#sk-container-id-2 label.sk-toggleable__label-arrow:before {\n",
              "  /* Arrow on the left of the label */\n",
              "  content: \"▸\";\n",
              "  float: left;\n",
              "  margin-right: 0.25em;\n",
              "  color: var(--sklearn-color-icon);\n",
              "}\n",
              "\n",
              "#sk-container-id-2 label.sk-toggleable__label-arrow:hover:before {\n",
              "  color: var(--sklearn-color-text);\n",
              "}\n",
              "\n",
              "/* Toggleable content - dropdown */\n",
              "\n",
              "#sk-container-id-2 div.sk-toggleable__content {\n",
              "  max-height: 0;\n",
              "  max-width: 0;\n",
              "  overflow: hidden;\n",
              "  text-align: left;\n",
              "  /* unfitted */\n",
              "  background-color: var(--sklearn-color-unfitted-level-0);\n",
              "}\n",
              "\n",
              "#sk-container-id-2 div.sk-toggleable__content.fitted {\n",
              "  /* fitted */\n",
              "  background-color: var(--sklearn-color-fitted-level-0);\n",
              "}\n",
              "\n",
              "#sk-container-id-2 div.sk-toggleable__content pre {\n",
              "  margin: 0.2em;\n",
              "  border-radius: 0.25em;\n",
              "  color: var(--sklearn-color-text);\n",
              "  /* unfitted */\n",
              "  background-color: var(--sklearn-color-unfitted-level-0);\n",
              "}\n",
              "\n",
              "#sk-container-id-2 div.sk-toggleable__content.fitted pre {\n",
              "  /* unfitted */\n",
              "  background-color: var(--sklearn-color-fitted-level-0);\n",
              "}\n",
              "\n",
              "#sk-container-id-2 input.sk-toggleable__control:checked~div.sk-toggleable__content {\n",
              "  /* Expand drop-down */\n",
              "  max-height: 200px;\n",
              "  max-width: 100%;\n",
              "  overflow: auto;\n",
              "}\n",
              "\n",
              "#sk-container-id-2 input.sk-toggleable__control:checked~label.sk-toggleable__label-arrow:before {\n",
              "  content: \"▾\";\n",
              "}\n",
              "\n",
              "/* Pipeline/ColumnTransformer-specific style */\n",
              "\n",
              "#sk-container-id-2 div.sk-label input.sk-toggleable__control:checked~label.sk-toggleable__label {\n",
              "  color: var(--sklearn-color-text);\n",
              "  background-color: var(--sklearn-color-unfitted-level-2);\n",
              "}\n",
              "\n",
              "#sk-container-id-2 div.sk-label.fitted input.sk-toggleable__control:checked~label.sk-toggleable__label {\n",
              "  background-color: var(--sklearn-color-fitted-level-2);\n",
              "}\n",
              "\n",
              "/* Estimator-specific style */\n",
              "\n",
              "/* Colorize estimator box */\n",
              "#sk-container-id-2 div.sk-estimator input.sk-toggleable__control:checked~label.sk-toggleable__label {\n",
              "  /* unfitted */\n",
              "  background-color: var(--sklearn-color-unfitted-level-2);\n",
              "}\n",
              "\n",
              "#sk-container-id-2 div.sk-estimator.fitted input.sk-toggleable__control:checked~label.sk-toggleable__label {\n",
              "  /* fitted */\n",
              "  background-color: var(--sklearn-color-fitted-level-2);\n",
              "}\n",
              "\n",
              "#sk-container-id-2 div.sk-label label.sk-toggleable__label,\n",
              "#sk-container-id-2 div.sk-label label {\n",
              "  /* The background is the default theme color */\n",
              "  color: var(--sklearn-color-text-on-default-background);\n",
              "}\n",
              "\n",
              "/* On hover, darken the color of the background */\n",
              "#sk-container-id-2 div.sk-label:hover label.sk-toggleable__label {\n",
              "  color: var(--sklearn-color-text);\n",
              "  background-color: var(--sklearn-color-unfitted-level-2);\n",
              "}\n",
              "\n",
              "/* Label box, darken color on hover, fitted */\n",
              "#sk-container-id-2 div.sk-label.fitted:hover label.sk-toggleable__label.fitted {\n",
              "  color: var(--sklearn-color-text);\n",
              "  background-color: var(--sklearn-color-fitted-level-2);\n",
              "}\n",
              "\n",
              "/* Estimator label */\n",
              "\n",
              "#sk-container-id-2 div.sk-label label {\n",
              "  font-family: monospace;\n",
              "  font-weight: bold;\n",
              "  display: inline-block;\n",
              "  line-height: 1.2em;\n",
              "}\n",
              "\n",
              "#sk-container-id-2 div.sk-label-container {\n",
              "  text-align: center;\n",
              "}\n",
              "\n",
              "/* Estimator-specific */\n",
              "#sk-container-id-2 div.sk-estimator {\n",
              "  font-family: monospace;\n",
              "  border: 1px dotted var(--sklearn-color-border-box);\n",
              "  border-radius: 0.25em;\n",
              "  box-sizing: border-box;\n",
              "  margin-bottom: 0.5em;\n",
              "  /* unfitted */\n",
              "  background-color: var(--sklearn-color-unfitted-level-0);\n",
              "}\n",
              "\n",
              "#sk-container-id-2 div.sk-estimator.fitted {\n",
              "  /* fitted */\n",
              "  background-color: var(--sklearn-color-fitted-level-0);\n",
              "}\n",
              "\n",
              "/* on hover */\n",
              "#sk-container-id-2 div.sk-estimator:hover {\n",
              "  /* unfitted */\n",
              "  background-color: var(--sklearn-color-unfitted-level-2);\n",
              "}\n",
              "\n",
              "#sk-container-id-2 div.sk-estimator.fitted:hover {\n",
              "  /* fitted */\n",
              "  background-color: var(--sklearn-color-fitted-level-2);\n",
              "}\n",
              "\n",
              "/* Specification for estimator info (e.g. \"i\" and \"?\") */\n",
              "\n",
              "/* Common style for \"i\" and \"?\" */\n",
              "\n",
              ".sk-estimator-doc-link,\n",
              "a:link.sk-estimator-doc-link,\n",
              "a:visited.sk-estimator-doc-link {\n",
              "  float: right;\n",
              "  font-size: smaller;\n",
              "  line-height: 1em;\n",
              "  font-family: monospace;\n",
              "  background-color: var(--sklearn-color-background);\n",
              "  border-radius: 1em;\n",
              "  height: 1em;\n",
              "  width: 1em;\n",
              "  text-decoration: none !important;\n",
              "  margin-left: 0.5em;\n",
              "  text-align: center;\n",
              "  /* unfitted */\n",
              "  border: var(--sklearn-color-unfitted-level-1) 1pt solid;\n",
              "  color: var(--sklearn-color-unfitted-level-1);\n",
              "}\n",
              "\n",
              ".sk-estimator-doc-link.fitted,\n",
              "a:link.sk-estimator-doc-link.fitted,\n",
              "a:visited.sk-estimator-doc-link.fitted {\n",
              "  /* fitted */\n",
              "  border: var(--sklearn-color-fitted-level-1) 1pt solid;\n",
              "  color: var(--sklearn-color-fitted-level-1);\n",
              "}\n",
              "\n",
              "/* On hover */\n",
              "div.sk-estimator:hover .sk-estimator-doc-link:hover,\n",
              ".sk-estimator-doc-link:hover,\n",
              "div.sk-label-container:hover .sk-estimator-doc-link:hover,\n",
              ".sk-estimator-doc-link:hover {\n",
              "  /* unfitted */\n",
              "  background-color: var(--sklearn-color-unfitted-level-3);\n",
              "  color: var(--sklearn-color-background);\n",
              "  text-decoration: none;\n",
              "}\n",
              "\n",
              "div.sk-estimator.fitted:hover .sk-estimator-doc-link.fitted:hover,\n",
              ".sk-estimator-doc-link.fitted:hover,\n",
              "div.sk-label-container:hover .sk-estimator-doc-link.fitted:hover,\n",
              ".sk-estimator-doc-link.fitted:hover {\n",
              "  /* fitted */\n",
              "  background-color: var(--sklearn-color-fitted-level-3);\n",
              "  color: var(--sklearn-color-background);\n",
              "  text-decoration: none;\n",
              "}\n",
              "\n",
              "/* Span, style for the box shown on hovering the info icon */\n",
              ".sk-estimator-doc-link span {\n",
              "  display: none;\n",
              "  z-index: 9999;\n",
              "  position: relative;\n",
              "  font-weight: normal;\n",
              "  right: .2ex;\n",
              "  padding: .5ex;\n",
              "  margin: .5ex;\n",
              "  width: min-content;\n",
              "  min-width: 20ex;\n",
              "  max-width: 50ex;\n",
              "  color: var(--sklearn-color-text);\n",
              "  box-shadow: 2pt 2pt 4pt #999;\n",
              "  /* unfitted */\n",
              "  background: var(--sklearn-color-unfitted-level-0);\n",
              "  border: .5pt solid var(--sklearn-color-unfitted-level-3);\n",
              "}\n",
              "\n",
              ".sk-estimator-doc-link.fitted span {\n",
              "  /* fitted */\n",
              "  background: var(--sklearn-color-fitted-level-0);\n",
              "  border: var(--sklearn-color-fitted-level-3);\n",
              "}\n",
              "\n",
              ".sk-estimator-doc-link:hover span {\n",
              "  display: block;\n",
              "}\n",
              "\n",
              "/* \"?\"-specific style due to the `<a>` HTML tag */\n",
              "\n",
              "#sk-container-id-2 a.estimator_doc_link {\n",
              "  float: right;\n",
              "  font-size: 1rem;\n",
              "  line-height: 1em;\n",
              "  font-family: monospace;\n",
              "  background-color: var(--sklearn-color-background);\n",
              "  border-radius: 1rem;\n",
              "  height: 1rem;\n",
              "  width: 1rem;\n",
              "  text-decoration: none;\n",
              "  /* unfitted */\n",
              "  color: var(--sklearn-color-unfitted-level-1);\n",
              "  border: var(--sklearn-color-unfitted-level-1) 1pt solid;\n",
              "}\n",
              "\n",
              "#sk-container-id-2 a.estimator_doc_link.fitted {\n",
              "  /* fitted */\n",
              "  border: var(--sklearn-color-fitted-level-1) 1pt solid;\n",
              "  color: var(--sklearn-color-fitted-level-1);\n",
              "}\n",
              "\n",
              "/* On hover */\n",
              "#sk-container-id-2 a.estimator_doc_link:hover {\n",
              "  /* unfitted */\n",
              "  background-color: var(--sklearn-color-unfitted-level-3);\n",
              "  color: var(--sklearn-color-background);\n",
              "  text-decoration: none;\n",
              "}\n",
              "\n",
              "#sk-container-id-2 a.estimator_doc_link.fitted:hover {\n",
              "  /* fitted */\n",
              "  background-color: var(--sklearn-color-fitted-level-3);\n",
              "}\n",
              "</style><div id=\"sk-container-id-2\" class=\"sk-top-container\"><div class=\"sk-text-repr-fallback\"><pre>GridSearchCV(cv=3, estimator=RandomForestClassifier(random_state=42), n_jobs=-1,\n",
              "             param_grid={&#x27;max_depth&#x27;: [None, 10, 20],\n",
              "                         &#x27;min_samples_leaf&#x27;: [1, 2, 4],\n",
              "                         &#x27;min_samples_split&#x27;: [2, 5, 10],\n",
              "                         &#x27;n_estimators&#x27;: [100, 200, 300]},\n",
              "             scoring=&#x27;f1_macro&#x27;, verbose=2)</pre><b>In a Jupyter environment, please rerun this cell to show the HTML representation or trust the notebook. <br />On GitHub, the HTML representation is unable to render, please try loading this page with nbviewer.org.</b></div><div class=\"sk-container\" hidden><div class=\"sk-item sk-dashed-wrapped\"><div class=\"sk-label-container\"><div class=\"sk-label fitted sk-toggleable\"><input class=\"sk-toggleable__control sk-hidden--visually\" id=\"sk-estimator-id-4\" type=\"checkbox\" ><label for=\"sk-estimator-id-4\" class=\"sk-toggleable__label fitted sk-toggleable__label-arrow\"><div><div>GridSearchCV</div></div><div><a class=\"sk-estimator-doc-link fitted\" rel=\"noreferrer\" target=\"_blank\" href=\"https://scikit-learn.org/1.6/modules/generated/sklearn.model_selection.GridSearchCV.html\">?<span>Documentation for GridSearchCV</span></a><span class=\"sk-estimator-doc-link fitted\">i<span>Fitted</span></span></div></label><div class=\"sk-toggleable__content fitted\"><pre>GridSearchCV(cv=3, estimator=RandomForestClassifier(random_state=42), n_jobs=-1,\n",
              "             param_grid={&#x27;max_depth&#x27;: [None, 10, 20],\n",
              "                         &#x27;min_samples_leaf&#x27;: [1, 2, 4],\n",
              "                         &#x27;min_samples_split&#x27;: [2, 5, 10],\n",
              "                         &#x27;n_estimators&#x27;: [100, 200, 300]},\n",
              "             scoring=&#x27;f1_macro&#x27;, verbose=2)</pre></div> </div></div><div class=\"sk-parallel\"><div class=\"sk-parallel-item\"><div class=\"sk-item\"><div class=\"sk-label-container\"><div class=\"sk-label fitted sk-toggleable\"><input class=\"sk-toggleable__control sk-hidden--visually\" id=\"sk-estimator-id-5\" type=\"checkbox\" ><label for=\"sk-estimator-id-5\" class=\"sk-toggleable__label fitted sk-toggleable__label-arrow\"><div><div>best_estimator_: RandomForestClassifier</div></div></label><div class=\"sk-toggleable__content fitted\"><pre>RandomForestClassifier(max_depth=20, n_estimators=200, random_state=42)</pre></div> </div></div><div class=\"sk-serial\"><div class=\"sk-item\"><div class=\"sk-estimator fitted sk-toggleable\"><input class=\"sk-toggleable__control sk-hidden--visually\" id=\"sk-estimator-id-6\" type=\"checkbox\" ><label for=\"sk-estimator-id-6\" class=\"sk-toggleable__label fitted sk-toggleable__label-arrow\"><div><div>RandomForestClassifier</div></div><div><a class=\"sk-estimator-doc-link fitted\" rel=\"noreferrer\" target=\"_blank\" href=\"https://scikit-learn.org/1.6/modules/generated/sklearn.ensemble.RandomForestClassifier.html\">?<span>Documentation for RandomForestClassifier</span></a></div></label><div class=\"sk-toggleable__content fitted\"><pre>RandomForestClassifier(max_depth=20, n_estimators=200, random_state=42)</pre></div> </div></div></div></div></div></div></div></div></div>"
            ]
          },
          "metadata": {},
          "execution_count": 141
        }
      ],
      "source": [
        "# Tentukan kombinasi parameter yang ingin dicoba\n",
        "param_grid = {\n",
        "    'n_estimators': [100, 200, 300],      # jumlah pohon dalam hutan\n",
        "    'max_depth': [None, 10, 20],          # kedalaman maksimum pohon\n",
        "    'min_samples_split': [2, 5, 10],      # minimal data untuk split\n",
        "    'min_samples_leaf': [1, 2, 4]         # minimal data per daun\n",
        "}\n",
        "\n",
        "# Inisialisasi GridSearchCV\n",
        "grid_search = GridSearchCV(\n",
        "    RandomForestClassifier(random_state=42),\n",
        "    param_grid=param_grid,\n",
        "    cv=3,\n",
        "    scoring='f1_macro',    # fokus ke keseimbangan antar kelas\n",
        "    n_jobs=-1,\n",
        "    verbose=2\n",
        ")\n",
        "\n",
        "# Jalankan grid search pada data hasil oversampling (ADASYN)\n",
        "grid_search.fit(X_train_res, y_train_res)"
      ]
    },
    {
      "cell_type": "code",
      "execution_count": 142,
      "metadata": {
        "colab": {
          "base_uri": "https://localhost:8080/"
        },
        "id": "XRP7tgQBoxAL",
        "outputId": "5ccb64c8-8a87-4a34-aecf-1a5f8b8948ab"
      },
      "outputs": [
        {
          "output_type": "stream",
          "name": "stdout",
          "text": [
            "\n",
            "✅ Best Parameters:\n",
            "{'max_depth': 20, 'min_samples_leaf': 1, 'min_samples_split': 2, 'n_estimators': 200}\n"
          ]
        }
      ],
      "source": [
        "# Tampilkan parameter terbaik\n",
        "print(\"\\n✅ Best Parameters:\")\n",
        "print(grid_search.best_params_)"
      ]
    },
    {
      "cell_type": "code",
      "execution_count": 143,
      "metadata": {
        "id": "cSsT4Z34oz_o"
      },
      "outputs": [],
      "source": [
        "# Gunakan model terbaik\n",
        "best_rf = grid_search.best_estimator_"
      ]
    },
    {
      "cell_type": "code",
      "execution_count": 144,
      "metadata": {
        "colab": {
          "base_uri": "https://localhost:8080/"
        },
        "id": "MeB9JMmPo35m",
        "outputId": "e3de9fa4-3c1d-4a78-cfbc-66e6ceb2e69d"
      },
      "outputs": [
        {
          "output_type": "stream",
          "name": "stdout",
          "text": [
            "=== HASIL EVALUASI MODEL RANDOM FOREST (Setelah Tuning) ===\n",
            "Akurasi: 81.17 %\n",
            "\n",
            "Laporan Klasifikasi:\n",
            "              precision    recall  f1-score   support\n",
            "\n",
            "           0       0.33      0.75      0.46         4\n",
            "           1       0.39      0.69      0.50        16\n",
            "           2       0.95      0.84      0.89       256\n",
            "           3       0.56      0.68      0.61        28\n",
            "           4       0.36      0.50      0.42         8\n",
            "           5       0.69      0.92      0.79        12\n",
            "\n",
            "    accuracy                           0.81       324\n",
            "   macro avg       0.55      0.73      0.61       324\n",
            "weighted avg       0.86      0.81      0.83       324\n",
            "\n"
          ]
        }
      ],
      "source": [
        "#Evaluasi Model Terbaik\n",
        "y_pred_best = best_rf.predict(X_test)\n",
        "\n",
        "print(\"=== HASIL EVALUASI MODEL RANDOM FOREST (Setelah Tuning) ===\")\n",
        "print(\"Akurasi:\", round(accuracy_score(y_test, y_pred_best) * 100, 2), \"%\")\n",
        "\n",
        "print(\"\\nLaporan Klasifikasi:\")\n",
        "print(classification_report(y_test, y_pred_best))"
      ]
    },
    {
      "cell_type": "markdown",
      "metadata": {
        "id": "KpKi_26jwAmy"
      },
      "source": [
        "- PELATIHAN MODEL MENGGUNAKAN BALANCED RANDOM FOREST"
      ]
    },
    {
      "cell_type": "code",
      "execution_count": 145,
      "metadata": {
        "id": "p6bPnhaasgj8"
      },
      "outputs": [],
      "source": [
        "#KLASIFIKASI DENGAN BALANCED RANDOM FOREST\n",
        "# Gunakan fitur dan target hasil seleksi sebelumnya\n",
        "X = df_processed[selected_features]\n",
        "y = df_processed[target_col]"
      ]
    },
    {
      "cell_type": "code",
      "execution_count": 146,
      "metadata": {
        "colab": {
          "base_uri": "https://localhost:8080/"
        },
        "id": "dJVVktuKtIfa",
        "outputId": "89a5b8a1-3c99-40a5-81c5-80521f98f371"
      },
      "outputs": [
        {
          "output_type": "stream",
          "name": "stdout",
          "text": [
            "✅ Distribusi Data Training (Sebelum Balance): Counter({2: 1022, 3: 113, 1: 66, 5: 48, 4: 30, 0: 14})\n",
            "✅ Distribusi Data Testing: Counter({2: 256, 3: 28, 1: 16, 5: 12, 4: 8, 0: 4})\n"
          ]
        }
      ],
      "source": [
        "# Split data (train-test)\n",
        "X_train, X_test, y_train, y_test = train_test_split(\n",
        "    X, y, test_size=0.2, random_state=42, stratify=y\n",
        ")\n",
        "\n",
        "print(\"✅ Distribusi Data Training (Sebelum Balance):\", Counter(y_train))\n",
        "print(\"✅ Distribusi Data Testing:\", Counter(y_test))"
      ]
    },
    {
      "cell_type": "code",
      "execution_count": 147,
      "metadata": {
        "colab": {
          "base_uri": "https://localhost:8080/"
        },
        "id": "ozqQxFkXtNIQ",
        "outputId": "212fff6e-4ef8-489e-99ec-0896ecd795b6"
      },
      "outputs": [
        {
          "output_type": "stream",
          "name": "stdout",
          "text": [
            "\n",
            "=== HASIL EVALUASI MODEL BALANCED RANDOM FOREST ===\n",
            "Akurasi: 81.79 %\n",
            "\n",
            "Laporan Klasifikasi:\n",
            "              precision    recall  f1-score   support\n",
            "\n",
            "           0       0.33      0.75      0.46         4\n",
            "           1       0.41      0.69      0.51        16\n",
            "           2       0.96      0.84      0.90       256\n",
            "           3       0.57      0.71      0.63        28\n",
            "           4       0.36      0.50      0.42         8\n",
            "           5       0.69      0.92      0.79        12\n",
            "\n",
            "    accuracy                           0.82       324\n",
            "   macro avg       0.55      0.74      0.62       324\n",
            "weighted avg       0.86      0.82      0.83       324\n",
            "\n"
          ]
        }
      ],
      "source": [
        "# Inisialisasi Balanced Random Forest\n",
        "brf = BalancedRandomForestClassifier(\n",
        "    n_estimators=300,      # jumlah pohon\n",
        "    random_state=42,\n",
        "    sampling_strategy='auto',  # otomatis menyeimbangkan setiap kelas\n",
        "    replacement=True,\n",
        "    n_jobs=-1\n",
        ")\n",
        "\n",
        "brf.fit(X_train, y_train)\n",
        "# Prediksi\n",
        "y_pred_brf = brf.predict(X_test)\n",
        "\n",
        "# Evaluasi model\n",
        "print(\"\\n=== HASIL EVALUASI MODEL BALANCED RANDOM FOREST ===\")\n",
        "print(\"Akurasi:\", round(accuracy_score(y_test, y_pred) * 100, 2), \"%\\n\")\n",
        "\n",
        "print(\"Laporan Klasifikasi:\")\n",
        "print(classification_report(y_test, y_pred))"
      ]
    },
    {
      "cell_type": "markdown",
      "metadata": {
        "id": "wHFPKvFgyov2"
      },
      "source": [
        "# **10. FEATURE IMPORTANCE**"
      ]
    },
    {
      "cell_type": "code",
      "execution_count": 148,
      "metadata": {
        "id": "_lUhAKX8z3fr"
      },
      "outputs": [],
      "source": [
        "# Pilih model terbaik berdasarkan hasil evaluasi\n",
        "# Misalnya, dari hasil kamu: ADASYN memberikan akurasi tertinggi (81,79%)\n",
        "model_terbaik = rf_model\n",
        "\n",
        "# Ambil nilai feature importance dari model\n",
        "importances = model_terbaik.feature_importances_\n",
        "feature_names = X_train.columns  # fitur sebelum ADASYN (karena nama kolomnya sama)\n",
        "\n",
        "# Urutkan fitur berdasarkan pengaruhnya\n",
        "indices = np.argsort(importances)[::-1]\n",
        "sorted_features = [feature_names[i] for i in indices]\n",
        "sorted_importances = importances[indices]"
      ]
    },
    {
      "cell_type": "code",
      "execution_count": 149,
      "metadata": {
        "colab": {
          "base_uri": "https://localhost:8080/",
          "height": 507
        },
        "id": "MZ-VpNkL0QMn",
        "outputId": "09159b5e-c9b0-4b02-f09f-e34a611c145e"
      },
      "outputs": [
        {
          "output_type": "display_data",
          "data": {
            "text/plain": [
              "<Figure size 800x500 with 1 Axes>"
            ],
            "image/png": "[encoded data removed]"
          },
          "metadata": {}
        }
      ],
      "source": [
        "# === Visualisasi Hasil Feature Importance ===\n",
        "plt.figure(figsize=(8, 5))\n",
        "sns.barplot(x=sorted_importances, y=sorted_features, palette='crest')\n",
        "plt.title(\"Feature Importance Model Random Forest (Setelah ADASYN)\")\n",
        "plt.xlabel(\"Nilai Kepentingan Fitur\")\n",
        "plt.ylabel(\"Nama Fitur\")\n",
        "plt.tight_layout()\n",
        "plt.show()"
      ]
    },
    {
      "cell_type": "code",
      "execution_count": 150,
      "metadata": {
        "colab": {
          "base_uri": "https://localhost:8080/"
        },
        "id": "Mw5YOmiW0ThX",
        "outputId": "7c137c1d-0c65-4b50-a979-a4000183716a"
      },
      "outputs": [
        {
          "output_type": "stream",
          "name": "stdout",
          "text": [
            "=== FEATURE IMPORTANCE (Model ADASYN) ===\n",
            "                   Fitur  Importance\n",
            "0          Z-Score BB/TB    0.447941\n",
            "1           Z-Score BB/U    0.230721\n",
            "2           Z-Score TB/U    0.184001\n",
            "3  Status BB/U (Encoded)    0.104511\n",
            "4  Status TB/U (Encoded)    0.032826\n"
          ]
        }
      ],
      "source": [
        "# === Tabel Nilai Feature Importance ===\n",
        "fi_df = pd.DataFrame({\n",
        "    'Fitur': sorted_features,\n",
        "    'Importance': sorted_importances\n",
        "})\n",
        "\n",
        "print(\"=== FEATURE IMPORTANCE (Model ADASYN) ===\")\n",
        "print(fi_df)"
      ]
    },
    {
      "cell_type": "markdown",
      "metadata": {
        "id": "Tb5zYzuj09Vj"
      },
      "source": [
        "# **11. PERBANDINGAN DATA ASLI VS ENCODED**"
      ]
    },
    {
      "cell_type": "code",
      "execution_count": 151,
      "metadata": {
        "colab": {
          "base_uri": "https://localhost:8080/"
        },
        "id": "DnIqGclz1EFg",
        "outputId": "9bb20968-f7de-4635-a677-3f89ac255c8c"
      },
      "outputs": [
        {
          "output_type": "stream",
          "name": "stdout",
          "text": [
            "=== INFORMASI DATA ASLI ===\n",
            "Dimensi data asli: (1617, 22)\n",
            "Jumlah kolom: 22\n",
            "Nama kolom asli:\n",
            "['No', 'Nama Anak', 'Tanggal Lahir', 'Umur', 'Jenis Kelamin', 'Berat Badan Lahir (Kg)', 'Nama Ibu', 'Desa', 'Dusun', 'Alamat', 'RT', 'RW', 'Tanggal Pengukuran', 'BB', 'TB', 'Z-Score BB/U', 'Z-Score TB/U', 'Z-Score BB/TB', 'Status BB/U', 'Status TB/U', 'Status BB/TB', 'Cara Ukur']\n",
            "\n",
            "\n"
          ]
        }
      ],
      "source": [
        "print(\"=== INFORMASI DATA ASLI ===\")\n",
        "print(f\"Dimensi data asli: {df.shape}\")\n",
        "print(f\"Jumlah kolom: {len(df.columns)}\")\n",
        "print(\"Nama kolom asli:\")\n",
        "print(df.columns.tolist())\n",
        "print(\"\\n\")"
      ]
    },
    {
      "cell_type": "code",
      "execution_count": 152,
      "metadata": {
        "colab": {
          "base_uri": "https://localhost:8080/"
        },
        "id": "dF3WAT7y1VNK",
        "outputId": "1c9de9e3-b3e0-41e7-b866-4a913bfca7f2"
      },
      "outputs": [
        {
          "output_type": "stream",
          "name": "stdout",
          "text": [
            "=== INFORMASI DATA SETELAH ENCODING & FEATURE ENGINEERING ===\n",
            "Dimensi data hasil encoding: (1617, 32)\n",
            "Jumlah kolom: 32\n",
            "Nama kolom hasil encoding:\n",
            "['No', 'Nama Anak', 'Tanggal Lahir', 'Umur', 'Jenis Kelamin', 'Berat Badan Lahir (Kg)', 'Nama Ibu', 'Desa', 'Alamat', 'RT', 'RW', 'Tanggal Pengukuran', 'BB', 'TB', 'Z-Score BB/U', 'Z-Score TB/U', 'Z-Score BB/TB', 'Status BB/U', 'Status TB/U', 'Status BB/TB', 'Cara Ukur', 'Posyandu_Larasati 1', 'Posyandu_Larasati 2', 'Posyandu_Larasati 3', 'Posyandu_Larasati 4', 'Posyandu_Larasati 5', 'Dusun_MLESE', 'Dusun_NGARAN', 'Dusun_SRAGON', 'Status BB/U (Encoded)', 'Status TB/U (Encoded)', 'Status BB/TB (Encoded)']\n",
            "\n",
            "\n"
          ]
        }
      ],
      "source": [
        "print(\"=== INFORMASI DATA SETELAH ENCODING & FEATURE ENGINEERING ===\")\n",
        "print(f\"Dimensi data hasil encoding: {df_processed.shape}\")\n",
        "print(f\"Jumlah kolom: {len(df_processed.columns)}\")\n",
        "print(\"Nama kolom hasil encoding:\")\n",
        "print(df_processed.columns.tolist())\n",
        "print(\"\\n\")"
      ]
    },
    {
      "cell_type": "code",
      "execution_count": 153,
      "metadata": {
        "colab": {
          "base_uri": "https://localhost:8080/"
        },
        "id": "KwqhJXTN1dmf",
        "outputId": "2e01cc9b-508f-45d4-b182-01a75be2450e"
      },
      "outputs": [
        {
          "output_type": "stream",
          "name": "stdout",
          "text": [
            "=== PERBANDINGAN SINGKAT ===\n",
            "                           Aspek  \\\n",
            "0                   Jumlah Baris   \n",
            "1                   Jumlah Kolom   \n",
            "2              Contoh Kolom Asli   \n",
            "3  Contoh Kolom Setelah Encoding   \n",
            "\n",
            "                                           Data Asli Data Setelah Encoding  \n",
            "0                                               1617                  1617  \n",
            "1                                                 22                    32  \n",
            "2  No, Nama Anak, Tanggal Lahir, Umur, Jenis Kelamin                     -  \n",
            "3  No, Nama Anak, Tanggal Lahir, Umur, Jenis Kelamin                     -  \n"
          ]
        }
      ],
      "source": [
        "# Buat tabel ringkasan perbandingan\n",
        "comparison_df = pd.DataFrame({\n",
        "    'Aspek': ['Jumlah Baris', 'Jumlah Kolom', 'Contoh Kolom Asli', 'Contoh Kolom Setelah Encoding'],\n",
        "    'Data Asli': [df.shape[0], df.shape[1], ', '.join(df.columns[:5]), ', '.join(df_processed.columns[:5])],\n",
        "    'Data Setelah Encoding': [df_processed.shape[0], df_processed.shape[1], '-', '-']\n",
        "})\n",
        "\n",
        "print(\"=== PERBANDINGAN SINGKAT ===\")\n",
        "print(comparison_df)"
      ]
    },
    {
      "cell_type": "markdown",
      "metadata": {
        "id": "OIkrBrLr49Eu"
      },
      "source": [
        "#**12. PREDIKSI MANUAL**"
      ]
    },
    {
      "cell_type": "code",
      "execution_count": 154,
      "metadata": {
        "colab": {
          "base_uri": "https://localhost:8080/"
        },
        "id": "PuahwXHV5NJF",
        "outputId": "edbf2f65-b7eb-41a2-fd1e-e45df8193840"
      },
      "outputs": [
        {
          "output_type": "stream",
          "name": "stdout",
          "text": [
            "=== DAFTAR ANAK DALAM DATASET ===\n",
            "['KANISA GENDHIS AMELIA' 'GHANIA FRADELLA LEENA ' 'RAYYAN ALFARIZI PUTRA '\n",
            " 'FAUZAN ADHIMA ' 'REXZA ACELIN ATHA A' 'NAJWA ALMEERA MADHURI'\n",
            " 'AZKA NANDANA ' 'FIONA YASMINA SAUQIYA' 'AZKA FATHIR YULIANTO'\n",
            " 'ALFAREZEL NENDR P' 'AZKIA QAILA PUTRI ' 'RASYID YAFI AKHDAN '\n",
            " 'ZAID SABILA MUBAROK' 'DILAN GIRALLDA' 'MALAIKA ARSYILA SAPUTRI'\n",
            " 'ALCEO REYNAND CHRISTIAWAN' 'LUNAR APRILIA PUTRI'\n",
            " 'ADHA FARIZQI PILAR MAHARDIKA' 'RAFASYA FATA FAREZI RAIZ '\n",
            " 'VANIA AQILA PUTRI ' 'ARSYILA ROMEESA FARZANA ' 'KYARA ESHA VALENI'\n",
            " 'ANINDYA KHOIRUNISSA' 'FATHAN DANEL SAPUTRA' 'FARENDRA ARSYA ALFARO'\n",
            " 'ANINDIRA NIDA UL KARIMAH' 'NELISA PUTRI NAFIA'\n",
            " 'KAMAYEL GHAZZAL IRTAZA S' 'HELYA ARANIA SURYA '\n",
            " 'CALLYSTA ZALFA AZZAHRA ' 'AZZAM FATHI HANNAN EL BARA '\n",
            " 'RAYYAN BAGASKORO SAPUTRA ' 'RAFAEL SARWANA PUTRA '\n",
            " 'GANENDRA PUTRA MAHARDIKA ' 'FAEYZA HANAN MARTINO ' 'NEELAM DWI SAFIRA '\n",
            " 'RAISA AMARA PUTRI ' 'SHELLY TRI VANIASARI ' 'MUHAMMAD IHSAN WIBOWO'\n",
            " 'AYRA NEIRISSA AUDIA INARA ' 'GANJAR APRIANTO'\n",
            " 'JUNIOR FEBIAN AXEL WIDODO' 'MUHAMMAD ABDUL ROHMAN '\n",
            " 'VICKY DWI RAMADHAN ' 'AQILLA SALSABILA RAMADHANI '\n",
            " 'MARIA AGATHA BELLVANIA PUTRI' 'BEATYFUL KARINA KHASANAH'\n",
            " 'RAGIL MERIANA PUTRI' 'UWAIS ZAIDAN FALAH' 'IMANUEL KENZIE NUGROHO'\n",
            " 'GAUDENCIA MIRACLE BELLA CHRIST' 'AQILA KENAYU PRAMESWARI '\n",
            " 'RAFAEL DAMAR TRISTAN NUGROHO' 'NURUL APRILLIA NUGRAHA '\n",
            " 'IZZA NUSAIBAH SHOLIKHAH ' 'GABRIELA KEYSHA PUTRI '\n",
            " 'NAVISHA ZAARA XYLIA ' 'NAYA AGUSTINA PUTRI '\n",
            " 'KAYLA NUNKI NUGRAHAINIMURTI' 'NABILA ISNAENI PUTRI HUMAIRA '\n",
            " 'MARIA IMMACULATA FLAVIATMI' 'MALVEN ANDREA SARJONO '\n",
            " 'ARGA OKTAVIANO LESTARI ISTAN ' 'NADHIFAH ARLENA AURELIA'\n",
            " 'GABRIEL MARCEL GEOVANI ' 'MUH IQBAL ' 'DZAFRAN OMAR ANANTA'\n",
            " 'HAMIZAN ATTAR IBADURROHMAN' 'AZZELLA LINTANG NAYYARA'\n",
            " 'RASYA ANADYA AZKA' 'MEICHA LUCITA AZAHRA' 'MUHAMMAD ALVITO RAMADHAN'\n",
            " 'KUNTI HAJAR ATHNOC KINANTI MAN' 'NIZAM AHIDQI ARSALAAN'\n",
            " 'ANUM ASKIA HUMAIRA' 'ALVINO FADHIL ALFARIZI' 'ELFANO ARJUNA PUTRA'\n",
            " 'HAMIZAN FAZA MUHAMMAD' 'MUHAMMAD KHOTIBUL UMAM' 'OKTAVIA EVA SUSANTO'\n",
            " 'DEWI SEKAR ARUM ' 'ALVINO CHAIRIL ALFARIZI '\n",
            " 'ARJUNA ZAIDAN PUTRA MUSTOFA ' 'SHALIH AQLANI ' 'NADHIRA SYIFA '\n",
            " 'GEMILANG ADITAMA' 'ARFAN PUTRA TANTOWI' 'MUHAMMAD HAFIZ ATHAFARIZ'\n",
            " 'EL ISRAFARA RAMADANI' 'FARREL SANDY ARIFIANTO' 'QAIREEN AQLA MAHESWARI'\n",
            " 'ARFAN DWI ' 'AQILA MAULIDA' 'MUHAMMAD KHALIF AUFAR'\n",
            " 'CHEIRA SYAKILA AZZAHRA' 'ISHAAN WAHYU ISMAIL ' 'ALIKA ALISYA PUTRI'\n",
            " 'MUHAMMAD ZAFRAN HERMANSYAH' 'NAJWA SHEEFA PRATAMA '\n",
            " 'ADIVA NAYLA RAMADHANI ' 'HAFIZA ASMIYA AZKADINA '\n",
            " 'ADSKHAN HADI ADYATAMA ' 'ARFAN MAULANA IBRAHIM '\n",
            " 'AIRLANGGA ALKHALIFI SHINANTRA ' 'HAZEL GERY ARKANA '\n",
            " 'ABIZARD FAAS RAUFA ' 'MUHAMMAD KAKA ALFARAUBI Y' 'DAYU JENAR SATYA '\n",
            " 'MUH. AL FAYZA ERDOGAN ' 'ZAHRA TUSITA MAULIDINA '\n",
            " 'FAVIAN JEFRI MAULANA ' 'DHAFA HARIZ' 'AISHA SHAKAYLA SETIAWAN '\n",
            " 'ARSYILLA  SHAQUEENA ANANTA' 'MAKAYLA AIRA ISMAIL'\n",
            " 'KAYSA ADIFA ASHALINA ' 'ARZAN FAUZIL RAFINDRA' 'DEVANDRA ARKANA AZHAR'\n",
            " 'AURIZKA ADELLA MAHARANI ' 'NAVY WILDAN AHMAD ' 'MAULANA AZKA WIJAYA'\n",
            " 'FATHIMAH ATSSAQFIYYA MF' 'MUH. RENZO' 'REYNARD DZAKY HANNAN'\n",
            " 'ARSHAKA FATHARIAN ADHYASTA' 'SATRIA AMINUDIN SETIAWAN'\n",
            " 'EVLYN BELVANIA PRADIPTHA' 'ARSILA ALKHA ARFITA'\n",
            " 'SALSABILLA FATIHATU KHOIRUNNISA ' 'DISNA SYBILLA'\n",
            " 'HERLAMBANG PUTRA PRASETYO' 'ZAKY AVILA AZAR' 'AKBAR DWI KUNCORO'\n",
            " 'KINAR AZIZAH ARLINO' 'ANDINI ROSITA NURAINI' 'STEFANO PRADEVA'\n",
            " 'ISWATUN KARTIKA' 'AKMAL DZAKA ALRAFAEZA' 'AZALEA AISYA ALANI ARKA '\n",
            " 'AQILA HASNA MAULIDA' 'MUH AZKA WIJAYA' 'YANUAR FATHUR ABDURAHMAN '\n",
            " 'ALIKA PUTRI KINANTHI ' 'ROBERTHO BUDI K' 'PUAN CAKRA BUANA '\n",
            " 'PUTRI SITI RAHAYU ' 'ADIAN KENZO ' 'ZAFRAN ALQHIFARI WIDADA'\n",
            " 'AULIA MEILA N' 'KHANZA HIFZAH HUMAIRA ' 'SABDO PUTRO SUTOPO'\n",
            " 'HAMIDAH WULANDARI ' 'NAUVAL ALFARIZI' 'ALMIRA PUTRI SAPUTRA '\n",
            " 'FERA PUTRI MAHARANI ' 'KANZIA ASKADINA NADHIFAH ' 'ALMIRA GITHA SEA'\n",
            " 'NAYLA ANDINI NIMA NUR HIDAYANI ' 'NAZRIL RAZAN ADIYASA '\n",
            " 'RAQEL ADHZA NADIFFA' 'MIKHAILA PUTRI WINSAH ' 'MUHAMMAD MARDIYANTO'\n",
            " 'MUHAMMAD SABANI ' 'RIZAL NUR ARIFIN ' 'NUR SYIFA AULIA'\n",
            " 'ELVANO ALDRIC RAFISQI' 'WAHYU TANTO SUJIO ' 'KAMAYEL GHAZZAL IRTAZA S '\n",
            " 'HELYA ARANIA SURYA' 'AZZAM FATHI HANAN EL BARA'\n",
            " 'AQILLA SALSABILA RAMADHANI' 'SYIFA JELITA ALZAKIYAH' 'FAUZAN ADHIMA'\n",
            " 'FAZIA NADJWA ELMITA' 'RAFA ALVIAN SARJONO' 'ANTONIO VION SEHA'\n",
            " 'ABID AQILA ABRAHAM' 'NASYA PUTRI ANINDYA' 'MAEZURRA ZAHIDA'\n",
            " 'ABIDZAR DEWANTARA' 'ANNASHA LIORA GENTARI'\n",
            " 'FINSHYQIE ELZAVE RINO PUTRAF' 'MUHAMMAD DIMAS AL RAHMAN' 'MUH IQBAL'\n",
            " 'LEO CRISTANTO SETIAWAN' 'ALVINO CHAIRIL ALFARIZI'\n",
            " 'ARJUNA ZAIDAN PUTRA MUSTOFA' 'MIKHAYLA PUTRI HERMAWAN '\n",
            " 'ZAHRA TUSITA MAULIDINA' 'FAVIAN JEFRI MAULANA'\n",
            " 'SALMA PRAMESTI NIRWASITA' 'TANGGUH ZAINUL M' 'ASKIA KAYLA AZZAHRA'\n",
            " 'MAQIL RASID ARIFIN' 'NAVYA AZKAYRA HERMAWAN' 'ANINDIRA GENDIS MAHESWARI'\n",
            " 'SABRINA NADHIFA KURNIAWAN ' 'COVITA HUMAIRA P' 'BRIDGIH MIKAYAH'\n",
            " 'AZKIA QAILA PUTRI' 'GERRY SETIAWAN ' 'ALESHA KHALIQA KUSUMA '\n",
            " 'HAFLANI HADI HAKEEMA' 'KYARA ESHAN VALEN ' 'ELVANO ALDRIC RAFISQI '\n",
            " 'ANINDYA KHOIRUNNISA ' 'FATHAN DANEL SAPUTRA ' 'FARENDRA ARSYA ALVARO '\n",
            " 'ANINDIRA NIDA UL KARIMAH ' 'AQILLA SALSABILA RAMADHAN '\n",
            " 'FAYOLLA CHAYRA NADHOFA' 'AIRA FARAH NUR FITRIYAH' 'ASKA AULIA'\n",
            " 'KAVIN ARDANA ABIPUTRA' 'REXZA ACELIN ATHA ' 'YUMNARISTA'\n",
            " 'AISYAH MARWAH INARA' 'FIONA YASMINA SUQIYA ' 'GRACIA SASA KRISTI'\n",
            " 'NAUFAL SATRIO ' 'ZAID HAIDAR ASH SHIDDIQ' 'SAAD ABU BAKAR '\n",
            " 'MUHAMMAD RAFISQY AL FATIH' 'NASYA AFFISMA' 'SHALIH AQLANI'\n",
            " 'NADHIRA SYIFA AZZAHRA' 'MIKHAYLA PUTRI HERMAWAN'\n",
            " 'ADZRIEL NIZAM SAPUTRA ' 'KHANZIA HIFZAH HUMAIRA '\n",
            " 'ABIDZAR GIBRANTARA RASKY' 'HANIN RAIHANA SYAHIRA '\n",
            " 'MUHAMMAD IKHSAN WIBOWO' 'ALMAGHFIRA NATHANIA' 'SHAFA PUTRI ALMAIRA'\n",
            " 'KANA ZELMIRRA ANGGITA' 'KEYSHA SAVINA ACELLINE' 'EMIKA AKIRA ARCYLLA'\n",
            " 'AYUDIA MYSHA PUTRI' 'EMBUN ARSYLA FADIA HAYA' 'ARYA WISANGGENI'\n",
            " 'MARCELLO AZZAHREL SETIAWAN' 'DAMAI CHANDRA BHANU' 'AMINA RAHMA AL HAQ'\n",
            " 'ARZAN ANDIAR DANESH' 'YUMNA HADI JYOTI' 'ANUGRAH NUR OKTAVIANA'\n",
            " 'NAIFA AZKIYA KHAYA' 'SHAFIA IMTINANA' 'ADINYA AZZAHRA'\n",
            " 'ALVIN KAREL MAHARDIKA' 'AHMAD ABIYYU IMRON ILTIZAM' 'AMIRA DANAR AMAIRA'\n",
            " 'AZZENA AYA AFFISMA' 'KAISHA ALEA PUTRI' 'SYIFA ALMIRA RAHMADHANI'\n",
            " 'ZIDAN AHNAF ARSALAN' 'FARADILA NAILA ARSYILA' 'ALIYYA KHOITUNISA'\n",
            " 'ABIAN NEVAN A RIYANTO' 'ZAHRA NESSA ARIYANTO' 'M.AKMAL RIJALUL MUNIR'\n",
            " 'SKY ARYA RASESTA' 'HIYARUL HIKAM' 'ALZAM GHIFFARI' 'AZZAHRA MUFIDA'\n",
            " 'NAURA BILQIS SALSABILA P.M' 'SEPTIA NABILA AISYAH'\n",
            " 'KIQNARA SHAQUEENA HAZELINE' 'VIKA KARISMA DEWI'\n",
            " 'NASHIH NAKULA ZAINUDIN ANWAR' 'ALYA NALADIVA' 'ELSHANUM NUR AZZAHRA'\n",
            " 'BELVANIA ASHWA E' 'MAFAZA GHAYDA MIYAZ' 'ARISTA SILVIA AYU'\n",
            " 'ABIZAR GIBRANTARA RASKY ALFAHR' 'HANIN RAIHANA SYAHIRA'\n",
            " 'MUHAMMAD AKYAR UZAIR' 'ADHITAMA ATHARAZKA SIHASIKA'\n",
            " 'ARFATHAN PRAHESTAMA' 'NIZAR RAZAN ADIRAMA' 'SAYIDAH KAMILAH AFIKA'\n",
            " 'RAFKA GILANG RAHMADHAN WIDADA' 'JEOVANCA ESTERLITA EMMANUELLA'\n",
            " 'PUTRI SITI RAHAYU' 'NAISYA OCTANAURA HAKIM'\n",
            " 'SHARLETTA ALMAHYRA ELSHANUM' 'SALWA ALMAHYRA RAHMAN'\n",
            " 'ELSHAKA KENZO HARTANTO' 'CARLISSA SETYOWATI'\n",
            " 'RAFISQY FATHARIAN RAHMADHAN' 'RAVANDRA BAYANAKA WIDIYATMOKO'\n",
            " 'GABRIEL ALBERCIO VARENDRA' 'AZIZAN HAKIMA' 'GANDHI FABIYAN LANZO'\n",
            " 'SAKHA AR RAIHAN SYABAN' 'NAYVA NARESWARI' 'ARLO FACHRUL HAIDAR'\n",
            " 'MELVIN ATHARRIZZ CALIEF' 'MUHAMMAD DHAFIN ALFARIZQI'\n",
            " 'NARA ADISTI MAHAYU' 'RAZKANIO NIZAM PRADANA' 'ELZARA QUEENSHA RAIS'\n",
            " 'ZIVANA SYAZA ZEHIRA' 'HAICO RAZKA AZHIM' 'ZIA MIKAYLA SAKHI'\n",
            " 'CLARA LEXA ALMAHYRA' 'ALZAIDAN PUTRA PRANDIKA' 'GHAVA ALFAREXAN'\n",
            " 'BELVANIA ASHWA ELEONARA' 'RAFAEYZA DIFIO NUGROHO'\n",
            " 'GHEALOVE BERLIANDIASTRIA KUSUM' 'NASYA OCTANAURA HAKIM'\n",
            " 'BARRA DEWA ARSYAT' 'MAUREEN LUCHIANA' 'NUR HUDA SAKHI BAKHTIAR'\n",
            " 'MUHAMMAD ARSHEEN AL VATER' 'ALESHA ALMAIRA PUTRI'\n",
            " 'PRABU SAGARA MAHARDINATA' 'SALSABILA KEYSHA PUTRI'\n",
            " 'KENIZIO ARKHA REGANANTA' 'NANDHIRA KENZA MAHENDRA'\n",
            " 'RAFAELLA EREN SURYATARA' 'AL FATIH ZAYN AHMAD' 'ALBERCIO ELVAN YASSIR'\n",
            " 'GANAPATHI  ZABIYAN' 'HANUNG ADZRIEL KHALFANI AKBAR'\n",
            " 'MUHAMMAD ZAKY RAMADHAN' 'NICHO MAHESA ALHANAN'\n",
            " 'EXCEL HAIDAR ANDARU MARTHA' 'ELVIRA DIVA PRATIWI' 'AIJAZ THABIT ANANTA'\n",
            " 'SHANUM MAEZURRA KHOIR ASYIFA' 'ADHITAMAATHARAZKA SIHASIKA'\n",
            " 'ALIFA PUTRI ARINIKA' 'MUHAMMAD RALDIEN AL MAHRIF']\n"
          ]
        }
      ],
      "source": [
        "# Tampilkan semua nama anak yang ada di dataset\n",
        "print(\"=== DAFTAR ANAK DALAM DATASET ===\")\n",
        "print(df['Nama Anak'].unique())"
      ]
    },
    {
      "cell_type": "code",
      "execution_count": 155,
      "metadata": {
        "id": "89fNtjkp6LMt"
      },
      "outputs": [],
      "source": [
        "# Pastikan kolom tanggal diubah ke format datetime\n",
        "df['Tanggal Pengukuran'] = pd.to_datetime(df['Tanggal Pengukuran'], errors='coerce')"
      ]
    },
    {
      "cell_type": "code",
      "execution_count": 156,
      "metadata": {
        "id": "73rwZDnC5vX8"
      },
      "outputs": [],
      "source": [
        "# Ambil nama anak yang ingin dianalisis\n",
        "nama_anak = 'ABIDZAR DEWANTARA'\n",
        "\n",
        "# Filter data anak tersebut\n",
        "data_anak = df[df['Nama Anak'] == nama_anak].copy()"
      ]
    },
    {
      "cell_type": "code",
      "execution_count": 157,
      "metadata": {
        "id": "EelLqpNL7s_H"
      },
      "outputs": [],
      "source": [
        "# Tambahkan kolom Tahun dan Bulan\n",
        "data_anak['Tahun'] = data_anak['Tanggal Pengukuran'].dt.year\n",
        "data_anak['Bulan'] = data_anak['Tanggal Pengukuran'].dt.month\n",
        "\n",
        "# Pilih tahun tertentu, misalnya 2024\n",
        "tahun_pilih = 2024\n",
        "data_tahun = data_anak[data_anak['Tahun'] == tahun_pilih]\n",
        "\n",
        "# Ambil pengukuran terakhir per bulan\n",
        "data_tahun = (\n",
        "    data_tahun.sort_values('Tanggal Pengukuran')\n",
        "    .groupby('Bulan', as_index=False)\n",
        "    .last()\n",
        ")\n",
        "\n",
        "# Urutkan berdasarkan bulan\n",
        "data_tahun = data_tahun.sort_values('Bulan')"
      ]
    },
    {
      "cell_type": "code",
      "execution_count": 158,
      "metadata": {
        "colab": {
          "base_uri": "https://localhost:8080/",
          "height": 507
        },
        "id": "NyUibUEx7xoq",
        "outputId": "001e2a5e-f5f3-42f3-9e7c-2ce0648d34ff"
      },
      "outputs": [
        {
          "output_type": "display_data",
          "data": {
            "text/plain": [
              "<Figure size 800x500 with 1 Axes>"
            ],
            "image/png": "[encoded data removed]"
          },
          "metadata": {}
        }
      ],
      "source": [
        "# Plot grafik\n",
        "plt.figure(figsize=(8,5))\n",
        "plt.plot(\n",
        "    data_tahun['Bulan'],\n",
        "    data_tahun['Z-Score BB/TB'],\n",
        "    marker='o',\n",
        "    color='mediumorchid',\n",
        "    linewidth=2,\n",
        "    label='Z-Score BB/TB'\n",
        ")\n",
        "plt.title(f\"Perkembangan Status Gizi {nama_anak} per Bulan ({tahun_pilih})\")\n",
        "plt.xlabel(\"Bulan\")\n",
        "plt.ylabel(\"Z-Score BB/TB\")\n",
        "plt.xticks(range(1,13))\n",
        "plt.grid(True, linestyle='--', alpha=0.6)\n",
        "plt.legend()\n",
        "plt.tight_layout()\n",
        "plt.show()"
      ]
    },
    {
      "cell_type": "markdown",
      "source": [
        "#**MENYIMPAN MODEL**"
      ],
      "metadata": {
        "id": "3UyGgGAd8dgz"
      }
    }
  ],
  "metadata": {
    "colab": {
      "provenance": []
    },
    "kernelspec": {
      "display_name": "Python 3",
      "name": "python3"
    },
    "language_info": {
      "name": "python"
    }
  },
  "nbformat": 4,
  "nbformat_minor": 0
}